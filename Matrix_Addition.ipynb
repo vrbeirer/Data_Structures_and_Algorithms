{
 "cells": [
  {
   "cell_type": "code",
   "execution_count": 1,
   "id": "424800b6-841e-4458-95c3-2eaead14b161",
   "metadata": {},
   "outputs": [],
   "source": [
    "import numpy as np"
   ]
  },
  {
   "cell_type": "code",
   "execution_count": 2,
   "id": "6cb0eb31-ed1e-4feb-bd23-8701d1244823",
   "metadata": {},
   "outputs": [
    {
     "name": "stdout",
     "output_type": "stream",
     "text": [
      "[[11 22 33]\n",
      " [44 55 66]\n",
      " [77 88 99]]\n"
     ]
    }
   ],
   "source": [
    "arr1=np.array([ \n",
    "    [1,2,3],[4,5,6],[7,8,9]])\n",
    "\n",
    "arr2=np.array([\n",
    "    [10,20,30],[40,50,60],[70,80,90]])\n",
    "\n",
    "result=arr1+arr2\n",
    "print(result)\n"
   ]
  },
  {
   "cell_type": "code",
   "execution_count": 3,
   "id": "8a1090e8-99e1-46d4-a6eb-b266ed060fd3",
   "metadata": {},
   "outputs": [
    {
     "name": "stdout",
     "output_type": "stream",
     "text": [
      "[[ 10  40  90]\n",
      " [160 250 360]\n",
      " [490 640 810]]\n"
     ]
    }
   ],
   "source": [
    "arr1=np.array([ \n",
    "    [1,2,3],[4,5,6],[7,8,9]])\n",
    "\n",
    "arr2=np.array([\n",
    "    [10,20,30],[40,50,60],[70,80,90]])\n",
    "\n",
    "result=arr1*arr2\n",
    "print(result)\n"
   ]
  },
  {
   "cell_type": "code",
   "execution_count": 10,
   "id": "4671b764-c402-4e51-8170-6e4bf73fcc54",
   "metadata": {},
   "outputs": [
    {
     "name": "stdout",
     "output_type": "stream",
     "text": [
      "[[11, 22, 33], [44, 55, 66], [77, 88, 99]]\n"
     ]
    }
   ],
   "source": [
    "#Using loop\n",
    "arr1=np.array([ \n",
    "    [1,2,3],[4,5,6],[7,8,9]])\n",
    "\n",
    "arr2=np.array([\n",
    "    [10,20,30],[40,50,60],[70,80,90]])\n",
    "result=[]\n",
    "for i in range(len(arr1)):\n",
    "    row=[]\n",
    "    for j in range(len(arr1[0])):\n",
    "        row.append(arr1[i,j]+arr2[i,j])\n",
    "    result.append(row)\n",
    "print(result)"
   ]
  },
  {
   "cell_type": "code",
   "execution_count": 12,
   "id": "30758429-86e4-4140-b0fa-1d444021228b",
   "metadata": {},
   "outputs": [
    {
     "name": "stdout",
     "output_type": "stream",
     "text": [
      "[[ 300  360  420]\n",
      " [ 660  810  960]\n",
      " [1020 1260 1500]]\n"
     ]
    }
   ],
   "source": [
    "#Using loop\n",
    "arr1=np.array([ \n",
    "    [1,2,3],[4,5,6],[7,8,9]])\n",
    "\n",
    "arr2=np.array([\n",
    "    [10,20,30],[40,50,60],[70,80,90]])\n",
    "result=np.dot(arr1,arr2)\n",
    "print(result)"
   ]
  },
  {
   "cell_type": "code",
   "execution_count": null,
   "id": "c18d7724-661e-4ac9-9d42-70f0c8533a30",
   "metadata": {},
   "outputs": [],
   "source": []
  }
 ],
 "metadata": {
  "kernelspec": {
   "display_name": "Python 3 (ipykernel)",
   "language": "python",
   "name": "python3"
  },
  "language_info": {
   "codemirror_mode": {
    "name": "ipython",
    "version": 3
   },
   "file_extension": ".py",
   "mimetype": "text/x-python",
   "name": "python",
   "nbconvert_exporter": "python",
   "pygments_lexer": "ipython3",
   "version": "3.12.7"
  }
 },
 "nbformat": 4,
 "nbformat_minor": 5
}
