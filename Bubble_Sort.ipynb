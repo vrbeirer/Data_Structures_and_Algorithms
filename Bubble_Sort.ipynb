{
 "cells": [
  {
   "cell_type": "code",
   "execution_count": 6,
   "id": "17cbc20a-cb23-45db-87f5-f42265c3e856",
   "metadata": {},
   "outputs": [
    {
     "name": "stdin",
     "output_type": "stream",
     "text": [
      "Enter number of Elements: 5\n",
      "Enter the Elements: 1\n",
      "Enter the Elements: 9\n",
      "Enter the Elements: 4\n",
      "Enter the Elements: 8\n",
      "Enter the Elements: 3\n"
     ]
    },
    {
     "name": "stdout",
     "output_type": "stream",
     "text": [
      "The sorted elemets are:\n",
      "1 3 4 8 9 "
     ]
    }
   ],
   "source": [
    "def Bubble_Sort(list):\n",
    "    size=len(list)\n",
    "    for i in range(size-1):\n",
    "        for j in range(size-1):\n",
    "            if list[j]>list[j+1]:\n",
    "                temp=list[j]\n",
    "                list[j]=list[j+1]\n",
    "                list[j+1]=temp\n",
    "\n",
    "n=int(input(\"Enter number of Elements:\"))\n",
    "l=[]\n",
    "for i in range(n):\n",
    "    num=int(input(\"Enter the Elements:\"))\n",
    "    l.append(num)\n",
    "\n",
    "Bubble_Sort(l)\n",
    "print(\"The sorted elemets are:\")\n",
    "for i in range(n):\n",
    "    print(l[i],end=\" \")"
   ]
  },
  {
   "cell_type": "code",
   "execution_count": null,
   "id": "67e0b417-8fdd-437c-bcc9-435c4c9d6973",
   "metadata": {},
   "outputs": [],
   "source": []
  }
 ],
 "metadata": {
  "kernelspec": {
   "display_name": "Python 3 (ipykernel)",
   "language": "python",
   "name": "python3"
  },
  "language_info": {
   "codemirror_mode": {
    "name": "ipython",
    "version": 3
   },
   "file_extension": ".py",
   "mimetype": "text/x-python",
   "name": "python",
   "nbconvert_exporter": "python",
   "pygments_lexer": "ipython3",
   "version": "3.12.7"
  }
 },
 "nbformat": 4,
 "nbformat_minor": 5
}
