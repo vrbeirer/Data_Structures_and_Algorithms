{
 "cells": [
  {
   "cell_type": "code",
   "execution_count": 4,
   "id": "05781a9e-c01b-426a-87c1-cb144d4aa01b",
   "metadata": {},
   "outputs": [
    {
     "name": "stdout",
     "output_type": "stream",
     "text": [
      "7\n"
     ]
    }
   ],
   "source": [
    "def print_factors(m, n):\n",
    "    fm = []  \n",
    "    for i in range(1, m + 1):\n",
    "        if m % i == 0:\n",
    "            fm.append(i)  \n",
    "\n",
    "    fn = []  \n",
    "    for j in range(1, n + 1):\n",
    "        if n % j == 0:\n",
    "            fn.append(j)  \n",
    "\n",
    "    cf = []\n",
    "    for f in fm:\n",
    "        if f in fn:\n",
    "            cf.append(f)  \n",
    "\n",
    "    return cf[-1]  \n",
    "\n",
    "\n",
    "result = print_factors(14,63)\n",
    "print(result)"
   ]
  },
  {
   "cell_type": "code",
   "execution_count": 5,
   "id": "a29a17d4-25a9-45a4-aa20-8acbc3be91a6",
   "metadata": {},
   "outputs": [
    {
     "data": {
      "text/plain": [
       "7"
      ]
     },
     "execution_count": 5,
     "metadata": {},
     "output_type": "execute_result"
    }
   ],
   "source": [
    "def gcd(m,n):\n",
    "    cf = []\n",
    "    min1 = min(m,n)\n",
    "    for i in range(1,min1 + 1):\n",
    "        if m%i == 0 and n%i == 0:\n",
    "            cf.append(i)\n",
    "    return cf[-1]\n",
    "\n",
    "gcd(14,63)"
   ]
  },
  {
   "cell_type": "code",
   "execution_count": 6,
   "id": "4a081f36-36eb-47f9-89d5-ddcf5259e17c",
   "metadata": {},
   "outputs": [
    {
     "data": {
      "text/plain": [
       "7"
      ]
     },
     "execution_count": 6,
     "metadata": {},
     "output_type": "execute_result"
    }
   ],
   "source": [
    "def gcd(m,n):\n",
    "    min1 = min(m,n)\n",
    "    for i in range(1,min1 + 1):\n",
    "        if m%i == 0 and n%i == 0:\n",
    "            mrcf = i\n",
    "    return mrcf\n",
    "\n",
    "gcd(14,63)"
   ]
  },
  {
   "cell_type": "code",
   "execution_count": 7,
   "id": "604fc598-4aec-4a9a-98bd-803725444e7d",
   "metadata": {},
   "outputs": [
    {
     "name": "stdout",
     "output_type": "stream",
     "text": [
      "7\n"
     ]
    }
   ],
   "source": [
    "def gcd(m,n):\n",
    "    min1 = min(m,n)\n",
    "    for i in range(min1, 1, -1):\n",
    "        if m%i == 0 and n%i == 0:\n",
    "            print(i)\n",
    "            break\n",
    "\n",
    "gcd(14,63)"
   ]
  },
  {
   "cell_type": "code",
   "execution_count": 8,
   "id": "ecfe2229-6542-4051-9a76-8c8930416739",
   "metadata": {},
   "outputs": [
    {
     "data": {
      "text/plain": [
       "7"
      ]
     },
     "execution_count": 8,
     "metadata": {},
     "output_type": "execute_result"
    }
   ],
   "source": [
    "def gcd1(m,n):\n",
    "    i = min(m,n)\n",
    "    while i > 0:\n",
    "        if m%i == 0 and n%i == 0:\n",
    "            return i\n",
    "        else:\n",
    "            i = i-1\n",
    "\n",
    "gcd1(14,63)"
   ]
  },
  {
   "cell_type": "code",
   "execution_count": null,
   "id": "cb4303b2-360d-4ba4-af67-ec662dd494ff",
   "metadata": {},
   "outputs": [],
   "source": []
  }
 ],
 "metadata": {
  "kernelspec": {
   "display_name": "Python 3 (ipykernel)",
   "language": "python",
   "name": "python3"
  },
  "language_info": {
   "codemirror_mode": {
    "name": "ipython",
    "version": 3
   },
   "file_extension": ".py",
   "mimetype": "text/x-python",
   "name": "python",
   "nbconvert_exporter": "python",
   "pygments_lexer": "ipython3",
   "version": "3.13.1"
  }
 },
 "nbformat": 4,
 "nbformat_minor": 5
}
