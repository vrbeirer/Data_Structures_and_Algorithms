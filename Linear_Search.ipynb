{
 "cells": [
  {
   "cell_type": "code",
   "execution_count": 15,
   "id": "1313cf9e-4e90-4494-8db2-71e7bb203235",
   "metadata": {},
   "outputs": [
    {
     "name": "stdin",
     "output_type": "stream",
     "text": [
      "Enter the number of elements:  5\n",
      "Enter the elements:  10\n",
      "Enter the elements:  20\n",
      "Enter the elements:  30\n",
      "Enter the elements:  40\n",
      "Enter the elements:  50\n",
      "Enter the element to search for:  40\n"
     ]
    },
    {
     "name": "stdout",
     "output_type": "stream",
     "text": [
      "40 element found at position 3\n"
     ]
    }
   ],
   "source": [
    "def linear_search(lst, key):\n",
    "    size = len(lst)\n",
    "    index = 0\n",
    "    while index < size:\n",
    "        if lst[index] == key:\n",
    "            return index\n",
    "        index += 1  \n",
    "    return -1  \n",
    "\n",
    "n = int(input(\"Enter the number of elements: \"))\n",
    "lst = []\n",
    "for i in range(n):\n",
    "    num = int(input(\"Enter the elements: \"))\n",
    "    lst.append(num)\n",
    "\n",
    "key = int(input(\"Enter the element to search for: \"))\n",
    "position = linear_search(lst, key)\n",
    "\n",
    "if position == -1:\n",
    "    print(\"Element is not found\")\n",
    "else:\n",
    "    print(\"{} element found at position {}\".format(key, position))\n"
   ]
  },
  {
   "cell_type": "code",
   "execution_count": null,
   "id": "e1ec6fe2-6e59-4de9-a11e-5d5e64c88558",
   "metadata": {},
   "outputs": [],
   "source": []
  }
 ],
 "metadata": {
  "kernelspec": {
   "display_name": "Python 3 (ipykernel)",
   "language": "python",
   "name": "python3"
  },
  "language_info": {
   "codemirror_mode": {
    "name": "ipython",
    "version": 3
   },
   "file_extension": ".py",
   "mimetype": "text/x-python",
   "name": "python",
   "nbconvert_exporter": "python",
   "pygments_lexer": "ipython3",
   "version": "3.12.7"
  }
 },
 "nbformat": 4,
 "nbformat_minor": 5
}
