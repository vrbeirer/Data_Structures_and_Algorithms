{
 "cells": [
  {
   "cell_type": "code",
   "execution_count": 13,
   "id": "8cf7dbc7-e4ef-41e6-8cec-574e18367478",
   "metadata": {},
   "outputs": [
    {
     "name": "stdout",
     "output_type": "stream",
     "text": [
      "<class 'numpy.ndarray'>\n",
      "[3, 5, 2, 7, 8, 4]\n"
     ]
    }
   ],
   "source": [
    "#Removing the duplicates in the array by membreship method\n",
    "import numpy as np\n",
    "x= np.array([3,5,5,2,7,8,8,4,4,5])\n",
    "print(type(x))\n",
    "def remove_duplicates(x):\n",
    "    new_arr=[]\n",
    "    for i in x:\n",
    "        if i not in new_arr:\n",
    "            new_arr.append(i)\n",
    "    return new_arr\n",
    "result=remove_duplicates(x)\n",
    "print(result)"
   ]
  },
  {
   "cell_type": "code",
   "execution_count": 9,
   "id": "38330a59-3543-44e7-8a0b-e72ddf64f744",
   "metadata": {},
   "outputs": [
    {
     "name": "stdout",
     "output_type": "stream",
     "text": [
      "[2 3 4 5 7 8]\n"
     ]
    }
   ],
   "source": [
    "import numpy as np\n",
    "x = np.array([3, 5, 2, 7, 8,2,3, 4, 5])\n",
    "result = np.unique(x)\n",
    "print(result)"
   ]
  },
  {
   "cell_type": "code",
   "execution_count": 12,
   "id": "f2fbaff7-0f6b-4add-8377-bb119cd2312c",
   "metadata": {},
   "outputs": [
    {
     "name": "stdout",
     "output_type": "stream",
     "text": [
      "<class 'numpy.ndarray'>\n",
      "[2 3 4 5 7 8]\n"
     ]
    }
   ],
   "source": [
    "#Use Type-Conversion\n",
    "x= np.array([3,5,5,2,7,8,8,4,4,5])\n",
    "print(type(x))\n",
    "def remove_duplicates(x):\n",
    "   unique_elements=list(set(x))\n",
    "   return np.array(unique_elements)\n",
    "\n",
    "result=remove_duplicates(x)\n",
    "print(result)"
   ]
  },
  {
   "cell_type": "code",
   "execution_count": null,
   "id": "860a48eb-f6a6-44d8-b3cc-7f689af293d8",
   "metadata": {},
   "outputs": [],
   "source": []
  }
 ],
 "metadata": {
  "kernelspec": {
   "display_name": "Python 3 (ipykernel)",
   "language": "python",
   "name": "python3"
  },
  "language_info": {
   "codemirror_mode": {
    "name": "ipython",
    "version": 3
   },
   "file_extension": ".py",
   "mimetype": "text/x-python",
   "name": "python",
   "nbconvert_exporter": "python",
   "pygments_lexer": "ipython3",
   "version": "3.12.7"
  }
 },
 "nbformat": 4,
 "nbformat_minor": 5
}
