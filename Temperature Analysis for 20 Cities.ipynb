{
 "cells": [
  {
   "cell_type": "code",
   "execution_count": null,
   "id": "15c5b3fc-99d3-4d9b-9ada-e04472cc9d94",
   "metadata": {},
   "outputs": [],
   "source": [
    "# Example temperature data: 20 cities, 31 days (Manually created for simplicity)\n",
    "temperature_data = [\n",
    "    [10, 15, 20, 25, 30, 28, 25, 27, 29, 35, 36, 37, 34, 32, 28, 27, 30, 32, 34, 31, 30, 28, 29, 31, 32, 30, 31, 29, 28, 27, 25]\n",
    "    for _ in range(20)\n",
    "]\n",
    "\n",
    "# a. Highest temperature of each city\n",
    "highest_temp_city = []\n",
    "for row in temperature_data:\n",
    "    max_temp = row[0]\n",
    "    for temp in row:\n",
    "        if temp > max_temp:\n",
    "            max_temp = temp\n",
    "    highest_temp_city.append(max_temp)\n",
    "\n",
    "# b. Day on which highest temperature was recorded\n",
    "day_of_max_temp = []\n",
    "for row in temperature_data:\n",
    "    max_temp = row[0]\n",
    "    max_day = 1\n",
    "    for j in range(len(row)):\n",
    "        if row[j] > max_temp:\n",
    "            max_temp = row[j]\n",
    "            max_day = j + 1\n",
    "    day_of_max_temp.append(max_day)\n",
    "\n",
    "# c. Average maximum temperature of each city\n",
    "average_temp_city = []\n",
    "for row in temperature_data:\n",
    "    total = 0\n",
    "    for temp in row:\n",
    "        total += temp\n",
    "    average_temp_city.append(total / len(row))\n",
    "\n",
    "print(\"Highest temperature of each city in January:\", highest_temp_city)\n",
    "print(\"Day on which highest temperature was recorded for each city:\", day_of_max_temp)\n",
    "print(\"Average maximum temperature of each city:\", average_temp_city)\n"
   ]
  }
 ],
 "metadata": {
  "kernelspec": {
   "display_name": "Python [conda env:base] *",
   "language": "python",
   "name": "conda-base-py"
  },
  "language_info": {
   "codemirror_mode": {
    "name": "ipython",
    "version": 3
   },
   "file_extension": ".py",
   "mimetype": "text/x-python",
   "name": "python",
   "nbconvert_exporter": "python",
   "pygments_lexer": "ipython3",
   "version": "3.12.7"
  }
 },
 "nbformat": 4,
 "nbformat_minor": 5
}
