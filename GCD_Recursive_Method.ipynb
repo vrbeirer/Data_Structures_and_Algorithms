{
 "cells": [
  {
   "cell_type": "code",
   "execution_count": 1,
   "id": "e6fe366b-71e2-4e3c-a07a-34a107742fbe",
   "metadata": {},
   "outputs": [
    {
     "name": "stdout",
     "output_type": "stream",
     "text": [
      "The GCD of 14 and 63 is: 7\n"
     ]
    }
   ],
   "source": [
    "def gcd_recursive(m, n):\n",
    "    if n == 0:\n",
    "        return m\n",
    "    else:\n",
    "        return gcd_recursive(n, m % n)\n",
    "\n",
    "# Example usage:\n",
    "result = gcd_recursive(14, 63)\n",
    "print(f\"The GCD of 14 and 63 is: {result}\")  # Output: The GCD of 14 and 63 is: 7"
   ]
  },
  {
   "cell_type": "code",
   "execution_count": null,
   "id": "0bd8f756-83ad-4e86-856d-b7a75ec90f26",
   "metadata": {},
   "outputs": [],
   "source": []
  }
 ],
 "metadata": {
  "kernelspec": {
   "display_name": "Python 3 (ipykernel)",
   "language": "python",
   "name": "python3"
  },
  "language_info": {
   "codemirror_mode": {
    "name": "ipython",
    "version": 3
   },
   "file_extension": ".py",
   "mimetype": "text/x-python",
   "name": "python",
   "nbconvert_exporter": "python",
   "pygments_lexer": "ipython3",
   "version": "3.12.7"
  }
 },
 "nbformat": 4,
 "nbformat_minor": 5
}
