{
 "cells": [
  {
   "cell_type": "code",
   "execution_count": 4,
   "id": "6c1b9c8a-7b4c-4369-ad5c-c6644f5badf9",
   "metadata": {},
   "outputs": [
    {
     "data": {
      "text/plain": [
       "array.array"
      ]
     },
     "execution_count": 4,
     "metadata": {},
     "output_type": "execute_result"
    }
   ],
   "source": [
    "x= ar.array('i',[3,5,2,7,8,4,5])\n",
    "type(x)"
   ]
  },
  {
   "cell_type": "code",
   "execution_count": 6,
   "id": "87638b2d-63f1-4d3e-ac14-3aa513f3a306",
   "metadata": {},
   "outputs": [
    {
     "name": "stdout",
     "output_type": "stream",
     "text": [
      "<class 'array.array'>\n",
      "Sum 34\n",
      "Average: 4.857142857142857\n"
     ]
    }
   ],
   "source": [
    "import array as ar\n",
    "x= ar.array('i',[3,5,2,7,8,4,5])\n",
    "print(type(x))\n",
    "x_sum=sum(x)\n",
    "print(\"Sum\",x_sum)\n",
    "length=len(x)\n",
    "average=x_sum/length\n",
    "print(\"Average:\",average)"
   ]
  },
  {
   "cell_type": "code",
   "execution_count": 12,
   "id": "cce59987-3e8c-436f-954b-e09d8b7be281",
   "metadata": {},
   "outputs": [
    {
     "name": "stdout",
     "output_type": "stream",
     "text": [
      "<class 'numpy.ndarray'>\n",
      "Sum 34\n",
      "Average: 4.857142857142857\n"
     ]
    }
   ],
   "source": [
    "import numpy as np\n",
    "x= np.array([3,5,2,7,8,4,5])\n",
    "print(type(x))\n",
    "x_sum=sum(x)\n",
    "print(\"Sum\",x_sum)\n",
    "length=len(x)\n",
    "average=x_sum/length\n",
    "print(\"Average:\",average)"
   ]
  },
  {
   "cell_type": "code",
   "execution_count": null,
   "id": "9cffbb51-5caa-4d51-8879-ef2836b9a455",
   "metadata": {},
   "outputs": [],
   "source": []
  }
 ],
 "metadata": {
  "kernelspec": {
   "display_name": "Python 3 (ipykernel)",
   "language": "python",
   "name": "python3"
  },
  "language_info": {
   "codemirror_mode": {
    "name": "ipython",
    "version": 3
   },
   "file_extension": ".py",
   "mimetype": "text/x-python",
   "name": "python",
   "nbconvert_exporter": "python",
   "pygments_lexer": "ipython3",
   "version": "3.12.7"
  }
 },
 "nbformat": 4,
 "nbformat_minor": 5
}
