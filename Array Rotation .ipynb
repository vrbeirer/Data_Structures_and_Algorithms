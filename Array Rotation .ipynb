{
 "cells": [
  {
   "cell_type": "code",
   "execution_count": 1,
   "id": "c020791b-48fc-459b-b67f-fefba18f4997",
   "metadata": {},
   "outputs": [
    {
     "name": "stdout",
     "output_type": "stream",
     "text": [
      "[4, 5, 1, 2, 3]\n"
     ]
    }
   ],
   "source": [
    "def rotate_array(arr, k):\n",
    "    k %= len(arr)\n",
    "    return arr[-k:] + arr[:-k]\n",
    "arr = [1, 2, 3, 4, 5]\n",
    "print(rotate_array(arr, 2))  "
   ]
  },
  {
   "cell_type": "code",
   "execution_count": 1,
   "id": "2ee06239-8811-4568-953c-22c66779911e",
   "metadata": {},
   "outputs": [
    {
     "name": "stdout",
     "output_type": "stream",
     "text": [
      "[4, 5, 1, 2, 3]\n"
     ]
    }
   ],
   "source": [
    "def rot_arr(arr,k):\n",
    "    k%len(arr)\n",
    "    return arr[-k:]+arr[:-k]\n",
    "arr=[1,2,3,4,5]\n",
    "print(rot_arr(arr,2))"
   ]
  },
  {
   "cell_type": "code",
   "execution_count": null,
   "id": "50c39219-9585-4788-881f-e2c1c327c655",
   "metadata": {},
   "outputs": [],
   "source": []
  }
 ],
 "metadata": {
  "kernelspec": {
   "display_name": "Python 3 (ipykernel)",
   "language": "python",
   "name": "python3"
  },
  "language_info": {
   "codemirror_mode": {
    "name": "ipython",
    "version": 3
   },
   "file_extension": ".py",
   "mimetype": "text/x-python",
   "name": "python",
   "nbconvert_exporter": "python",
   "pygments_lexer": "ipython3",
   "version": "3.12.7"
  }
 },
 "nbformat": 4,
 "nbformat_minor": 5
}
