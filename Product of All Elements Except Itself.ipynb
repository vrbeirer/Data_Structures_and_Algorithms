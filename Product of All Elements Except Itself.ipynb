{
 "cells": [
  {
   "cell_type": "code",
   "execution_count": 1,
   "id": "272292d9-912a-4cbc-a72a-772b17f42132",
   "metadata": {},
   "outputs": [
    {
     "name": "stdout",
     "output_type": "stream",
     "text": [
      "[24, 12, 8, 6]\n"
     ]
    }
   ],
   "source": [
    "def product_except_self(arr):\n",
    "    n = len(arr)\n",
    "    result = [1] * n\n",
    "    left_product = 1\n",
    "    for i in range(n):\n",
    "        result[i] = left_product\n",
    "        left_product *= arr[i]\n",
    "    right_product = 1\n",
    "    for i in range(n - 1, -1, -1):\n",
    "        result[i] *= right_product\n",
    "        right_product *= arr[i]\n",
    "    return result\n",
    "arr = [1, 2, 3, 4]\n",
    "print(product_except_self(arr)) \n"
   ]
  },
  {
   "cell_type": "code",
   "execution_count": null,
   "id": "46444ece-abe7-4ac7-912c-cf2a3ae51900",
   "metadata": {},
   "outputs": [],
   "source": []
  }
 ],
 "metadata": {
  "kernelspec": {
   "display_name": "Python 3 (ipykernel)",
   "language": "python",
   "name": "python3"
  },
  "language_info": {
   "codemirror_mode": {
    "name": "ipython",
    "version": 3
   },
   "file_extension": ".py",
   "mimetype": "text/x-python",
   "name": "python",
   "nbconvert_exporter": "python",
   "pygments_lexer": "ipython3",
   "version": "3.12.4"
  }
 },
 "nbformat": 4,
 "nbformat_minor": 5
}
