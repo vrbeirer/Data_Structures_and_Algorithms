{
 "cells": [
  {
   "cell_type": "code",
   "execution_count": 1,
   "id": "f1c6fbce-60a4-44cd-b5aa-6c18bfda7bf7",
   "metadata": {},
   "outputs": [
    {
     "name": "stdout",
     "output_type": "stream",
     "text": [
      "Sum of diagonal elements: 16\n"
     ]
    }
   ],
   "source": [
    "# Example square matrix\n",
    "matrix = [\n",
    "    [2, 3, 1],\n",
    "    [4, 5, 6],\n",
    "    [7, 8, 9]\n",
    "]\n",
    "\n",
    "# Sum of diagonal elements\n",
    "diagonal_sum = 0\n",
    "for i in range(len(matrix)):\n",
    "    diagonal_sum += matrix[i][i]\n",
    "\n",
    "print(\"Sum of diagonal elements:\", diagonal_sum)\n"
   ]
  },
  {
   "cell_type": "code",
   "execution_count": null,
   "id": "36a2c193-63ce-477d-abe1-e35c394c5cc3",
   "metadata": {},
   "outputs": [],
   "source": [
    "def display_reverse(self,curnode):\n",
    "    if curNode is None:\n",
    "        print(\"None\",end='<--')\n",
    "        return\n",
    "        self.display_reverse(curnode.nlink)\n",
    "        print(curNode.data,end='-->')"
   ]
  },
  {
   "cell_type": "code",
   "execution_count": null,
   "id": "58fbfc01-dcec-48ff-9bcb-dd2fd5c1de5c",
   "metadata": {},
   "outputs": [],
   "source": [
    "def display_reverse(self,curNode):\n",
    "    if curNode is None:\n",
    "        return\n",
    "        self.display_reverse(curNode.nlink)\n",
    "        print(curNode.data,end='')"
   ]
  }
 ],
 "metadata": {
  "kernelspec": {
   "display_name": "Python 3 (ipykernel)",
   "language": "python",
   "name": "python3"
  },
  "language_info": {
   "codemirror_mode": {
    "name": "ipython",
    "version": 3
   },
   "file_extension": ".py",
   "mimetype": "text/x-python",
   "name": "python",
   "nbconvert_exporter": "python",
   "pygments_lexer": "ipython3",
   "version": "3.12.7"
  }
 },
 "nbformat": 4,
 "nbformat_minor": 5
}
