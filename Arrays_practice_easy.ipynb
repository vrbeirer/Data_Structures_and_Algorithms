{
 "cells": [
  {
   "cell_type": "code",
   "execution_count": 13,
   "id": "53f6b7e4-bf2f-4527-90e6-087a5b4e09dd",
   "metadata": {},
   "outputs": [
    {
     "name": "stdout",
     "output_type": "stream",
     "text": [
      "1. Smallest: 1\n"
     ]
    }
   ],
   "source": [
    "import math\n",
    "\n",
    "# 1. Smallest element\n",
    "def smallest_element(numbers):\n",
    "    if not numbers:\n",
    "        return None\n",
    "    return min(numbers)\n",
    "\n",
    "# Example:\n",
    "numbers1 = [5, 2, 8, 1, 9, 2]\n",
    "print(\"1. Smallest:\", smallest_element(numbers1))\n"
   ]
  },
  {
   "cell_type": "code",
   "execution_count": 14,
   "id": "8b4465f8-42ea-4dda-9404-9454493d7772",
   "metadata": {},
   "outputs": [
    {
     "name": "stdout",
     "output_type": "stream",
     "text": [
      "2. Reversed: [5, 4, 3, 2, 1]\n"
     ]
    }
   ],
   "source": [
    "# 2. Reverse array\n",
    "def reverse_array(arr):\n",
    "    left, right = 0, len(arr) - 1\n",
    "    while left < right:\n",
    "        arr[left], arr[right] = arr[right], arr[left]\n",
    "        left += 1\n",
    "        right -= 1\n",
    "\n",
    "# Example:\n",
    "arr2 = [1, 2, 3, 4, 5]\n",
    "reverse_array(arr2)\n",
    "print(\"2. Reversed:\", arr2)\n"
   ]
  },
  {
   "cell_type": "code",
   "execution_count": 15,
   "id": "c25b2c90-ad28-4606-9077-7b5e944724c7",
   "metadata": {},
   "outputs": [
    {
     "name": "stdout",
     "output_type": "stream",
     "text": [
      "3. Std Dev: 3.095695936834452\n"
     ]
    }
   ],
   "source": [
    "\n",
    "# 3. Standard deviation\n",
    "def standard_deviation(numbers):\n",
    "    if not numbers:\n",
    "        return None\n",
    "    n = len(numbers)\n",
    "    mean = sum(numbers) / n\n",
    "    variance = sum([(x - mean)**2 for x in numbers]) / n\n",
    "    return math.sqrt(variance)\n",
    "\n",
    "# Example:\n",
    "numbers3 = [5, 2, 8, 1, 9, 2]\n",
    "print(\"3. Std Dev:\", standard_deviation(numbers3))\n"
   ]
  },
  {
   "cell_type": "code",
   "execution_count": 16,
   "id": "dd00504c-d406-4b0c-8eb0-2f16618d1399",
   "metadata": {},
   "outputs": [
    {
     "name": "stdout",
     "output_type": "stream",
     "text": [
      "4. Odd Count: 3\n"
     ]
    }
   ],
   "source": [
    "\n",
    "# 4. Count odd numbers\n",
    "def count_odd_numbers(numbers):\n",
    "    return sum(1 for num in numbers if num % 2 != 0)\n",
    "\n",
    "# Example:\n",
    "numbers4 = [1, 2, 3, 4, 5, 6]\n",
    "print(\"4. Odd Count:\", count_odd_numbers(numbers4))\n"
   ]
  },
  {
   "cell_type": "code",
   "execution_count": 17,
   "id": "3b01e2b1-78d6-43c8-87d2-731cc8b0d5c2",
   "metadata": {},
   "outputs": [
    {
     "name": "stdout",
     "output_type": "stream",
     "text": [
      "5. Largest Odd: 5\n"
     ]
    }
   ],
   "source": [
    "# 5. Largest odd number\n",
    "def largest_odd_number(numbers):\n",
    "    odds = [num for num in numbers if num % 2 != 0]\n",
    "    if not odds:\n",
    "        return None\n",
    "    return max(odds)\n",
    "\n",
    "# Example:\n",
    "numbers5 = [2, 4, 6, 1, 3, 5]\n",
    "print(\"5. Largest Odd:\", largest_odd_number(numbers5))\n"
   ]
  },
  {
   "cell_type": "code",
   "execution_count": 18,
   "id": "aa6f0c9d-7d82-4814-81b2-1cb2beb74c90",
   "metadata": {},
   "outputs": [
    {
     "name": "stdout",
     "output_type": "stream",
     "text": [
      "6. Prime Count: 4\n"
     ]
    }
   ],
   "source": [
    "\n",
    "# 6. Count prime numbers\n",
    "def is_prime(num):\n",
    "    if num <= 1:\n",
    "        return False\n",
    "    for i in range(2, int(math.sqrt(num)) + 1):\n",
    "        if num % i == 0:\n",
    "            return False\n",
    "    return True\n",
    "\n",
    "def count_prime_numbers(numbers):\n",
    "    return sum(1 for num in numbers if is_prime(num))\n",
    "\n",
    "# Example:\n",
    "numbers6 = [2, 3, 4, 5, 6, 7]\n",
    "print(\"6. Prime Count:\", count_prime_numbers(numbers6))\n"
   ]
  },
  {
   "cell_type": "code",
   "execution_count": 19,
   "id": "ae7c21a4-6b52-48de-95f7-815eb3b50d8a",
   "metadata": {},
   "outputs": [
    {
     "name": "stdout",
     "output_type": "stream",
     "text": [
      "9. Binary of 10 : 1010\n"
     ]
    }
   ],
   "source": [
    "# 9. Decimal to binary\n",
    "def decimal_to_binary(n):\n",
    "    if n == 0:\n",
    "        return \"0\"\n",
    "    binary = \"\"\n",
    "    while n > 0:\n",
    "        binary = str(n % 2) + binary\n",
    "        n //= 2\n",
    "    return binary\n",
    "\n",
    "# Example:\n",
    "decimal_num = 10\n",
    "print(\"9. Binary of\", decimal_num, \":\", decimal_to_binary(decimal_num))"
   ]
  },
  {
   "cell_type": "code",
   "execution_count": 20,
   "id": "32cacbaa-cf7c-4c95-ae72-f911eb528a80",
   "metadata": {},
   "outputs": [
    {
     "name": "stdout",
     "output_type": "stream",
     "text": [
      "10. After deletion: [1, 2, 4, 5]\n"
     ]
    }
   ],
   "source": [
    "# 10. Delete element\n",
    "def delete_element(arr, k):\n",
    "    if 0 <= k < len(arr):\n",
    "        del arr[k]\n",
    "    else:\n",
    "        print(\"Invalid index\")\n",
    "\n",
    "# Example:\n",
    "arr10 = [1, 2, 3, 4, 5]\n",
    "delete_element(arr10, 2)\n",
    "print(\"10. After deletion:\", arr10)"
   ]
  },
  {
   "cell_type": "code",
   "execution_count": 21,
   "id": "fdb4a77a-5063-4e4c-8b96-8eff3c3f387c",
   "metadata": {},
   "outputs": [
    {
     "name": "stdout",
     "output_type": "stream",
     "text": [
      "11. After insertion: [1, 3, 4, 5, 7, 9]\n"
     ]
    }
   ],
   "source": [
    "\n",
    "# 11. Insert sorted\n",
    "def insert_sorted(arr, num):\n",
    "    for i in range(len(arr)):\n",
    "        if num <= arr[i]:\n",
    "            arr.insert(i, num)\n",
    "            return\n",
    "    arr.append(num)\n",
    "\n",
    "# Example:\n",
    "sorted_arr11 = [1, 3, 5, 7, 9]\n",
    "insert_sorted(sorted_arr11, 4)\n",
    "print(\"11. After insertion:\", sorted_arr11)\n"
   ]
  },
  {
   "cell_type": "code",
   "execution_count": 22,
   "id": "359a4c62-3fa5-4ad4-88ff-92926c1edab0",
   "metadata": {},
   "outputs": [
    {
     "name": "stdout",
     "output_type": "stream",
     "text": [
      "12. Union: [1, 2, 3, 4, 5]\n"
     ]
    }
   ],
   "source": [
    "# 12. Union of sets\n",
    "def union_of_sets(set1, set2):\n",
    "    return list(set(set1).union(set(set2)))\n",
    "\n",
    "# Example:\n",
    "set12_1 = [1, 2, 3]\n",
    "set12_2 = [3, 4, 5]\n",
    "print(\"12. Union:\", union_of_sets(set12_1, set12_2))"
   ]
  },
  {
   "cell_type": "code",
   "execution_count": 23,
   "id": "ef5c46ff-2e91-4242-8b5e-2060480d3265",
   "metadata": {},
   "outputs": [
    {
     "name": "stdout",
     "output_type": "stream",
     "text": [
      "1. Move Zeroes: [1, 3, 12, 0, 0]\n",
      "2. Rotate Array: [4, 5, 1, 2, 3]\n",
      "3. Product Except Self: [24, 12, 8, 6]\n",
      "4. Two Sum: [0, 1]\n",
      "5. Min Jumps: 2\n",
      "6. Sort Colors: [0, 0, 1, 1, 2, 2]\n",
      "7. Trapping Rain Water: 6\n"
     ]
    }
   ],
   "source": [
    "# 1. Move Zeroes to the End\n",
    "def move_zeroes(arr):\n",
    "    non_zero_index = 0\n",
    "    for i in range(len(arr)):\n",
    "        if arr[i] != 0:\n",
    "            arr[non_zero_index], arr[i] = arr[i], arr[non_zero_index]\n",
    "            non_zero_index += 1\n",
    "\n",
    "    return arr\n",
    "\n",
    "# 2. Array Rotation\n",
    "def rotate_array(arr, k):\n",
    "    n = len(arr)\n",
    "    k = k % n  # Handle k > n\n",
    "    return arr[-k:] + arr[:-k]\n",
    "\n",
    "# 3. Product of All Elements Except Itself\n",
    "def product_except_self(arr):\n",
    "    n = len(arr)\n",
    "    result = [1] * n\n",
    "\n",
    "    # Prefix products\n",
    "    prefix_product = 1\n",
    "    for i in range(n):\n",
    "        result[i] = prefix_product\n",
    "        prefix_product *= arr[i]\n",
    "\n",
    "    # Postfix products\n",
    "    postfix_product = 1\n",
    "    for i in range(n - 1, -1, -1):\n",
    "        result[i] *= postfix_product\n",
    "        postfix_product *= arr[i]\n",
    "\n",
    "    return result\n",
    "\n",
    "# 4. Two Sum Problem\n",
    "def two_sum(arr, target):\n",
    "    num_map = {}  # Hash map to store numbers and their indices\n",
    "    for i, num in enumerate(arr):\n",
    "        complement = target - num\n",
    "        if complement in num_map:\n",
    "            return [num_map[complement], i]\n",
    "        num_map[num] = i\n",
    "    return []  # No solution found\n",
    "\n",
    "# 5. Minimum Number of Jumps to Reach End\n",
    "def min_jumps(arr):\n",
    "    n = len(arr)\n",
    "    if n == 0:\n",
    "      return 0\n",
    "    jumps = 0\n",
    "    current_reach = 0\n",
    "    max_reach = 0\n",
    "\n",
    "    for i in range(n-1):\n",
    "        max_reach = max(max_reach, i+arr[i])\n",
    "        if i == current_reach:\n",
    "            jumps += 1\n",
    "            current_reach = max_reach\n",
    "        if current_reach >= n-1:\n",
    "          return jumps\n",
    "\n",
    "    return jumps\n",
    "\n",
    "# 6. Sort Colors (Dutch National Flag Problem)\n",
    "def sort_colors(arr):\n",
    "    low = 0\n",
    "    mid = 0\n",
    "    high = len(arr) - 1\n",
    "\n",
    "    while mid <= high:\n",
    "        if arr[mid] == 0:\n",
    "            arr[low], arr[mid] = arr[mid], arr[low]\n",
    "            low += 1\n",
    "            mid += 1\n",
    "        elif arr[mid] == 1:\n",
    "            mid += 1\n",
    "        else:  # arr[mid] == 2\n",
    "            arr[mid], arr[high] = arr[high], arr[mid]\n",
    "            high -= 1\n",
    "    return arr\n",
    "\n",
    "# 7. Trapping Rain Water\n",
    "def trapping_rain_water(arr):\n",
    "    n = len(arr)\n",
    "    if n == 0:\n",
    "        return 0\n",
    "\n",
    "    water = 0\n",
    "    left_max = [0] * n\n",
    "    right_max = [0] * n\n",
    "\n",
    "    # Calculate left max for each element\n",
    "    left_max[0] = arr[0]\n",
    "    for i in range(1, n):\n",
    "        left_max[i] = max(arr[i], left_max[i - 1])\n",
    "\n",
    "    # Calculate right max for each element\n",
    "    right_max[n - 1] = arr[n - 1]\n",
    "    for i in range(n - 2, -1, -1):\n",
    "        right_max[i] = max(arr[i], right_max[i + 1])\n",
    "\n",
    "    # Calculate trapped water for each element\n",
    "    for i in range(n):\n",
    "        water += max(0, min(left_max[i], right_max[i]) - arr[i])\n",
    "\n",
    "    return water\n",
    "\n",
    "\n",
    "# Example Usages:  (You can uncomment these to test)\n",
    "arr1 = [0, 1, 0, 3, 12]\n",
    "print(\"1. Move Zeroes:\", move_zeroes(arr1))\n",
    "\n",
    "arr2 = [1, 2, 3, 4, 5]\n",
    "print(\"2. Rotate Array:\", rotate_array(arr2, 2))\n",
    "\n",
    "arr3 = [1, 2, 3, 4]\n",
    "print(\"3. Product Except Self:\", product_except_self(arr3))\n",
    "\n",
    "arr4 = [2, 7, 11, 15]\n",
    "print(\"4. Two Sum:\", two_sum(arr4, 9))\n",
    "\n",
    "arr5 = [6, 2, 4, 0, 5, 1, 1, 4, 2, 9]\n",
    "print(\"5. Min Jumps:\", min_jumps(arr5))\n",
    "\n",
    "arr6 = [2, 0, 2, 1, 1, 0]\n",
    "print(\"6. Sort Colors:\", sort_colors(arr6))\n",
    "\n",
    "arr7 = [0, 1, 0, 2, 1, 0, 1, 3, 2, 1, 2, 1]\n",
    "print(\"7. Trapping Rain Water:\", trapping_rain_water(arr7))"
   ]
  },
  {
   "cell_type": "code",
   "execution_count": 24,
   "id": "e58381c8-f770-4ced-9105-a5977f19e3dd",
   "metadata": {},
   "outputs": [
    {
     "name": "stdout",
     "output_type": "stream",
     "text": [
      "1. Sales Analysis:\n",
      "Employee Totals: {'Alice': 3700, 'Bob': 2800, 'Charlie': 4300}\n",
      "Month Totals: {1: 3100, 2: 3500, 3: 4200}\n",
      "Overall Total: 10800\n",
      "\n",
      "2. Determinant: 0\n",
      "\n",
      "3. Diagonal Sum: 15\n",
      "\n",
      "4. Temperature Analysis:\n",
      "Highest Temps: {'CityA': 31}\n",
      "Highest Days: {'CityA': 9}\n",
      "Average Temps: {'CityA': 27.322580645161292}\n",
      "\n",
      "5. Set Matrix Zeroes:\n",
      "[[1, 0, 1], [0, 0, 0], [1, 0, 1]]\n"
     ]
    }
   ],
   "source": [
    "# 1. Monthly Sales Figures\n",
    "\n",
    "def analyze_sales(sales_data):\n",
    "    \"\"\"\n",
    "    Analyzes monthly sales figures for employees and months.\n",
    "\n",
    "    Args:\n",
    "        sales_data: A dictionary where keys are employee names and values are\n",
    "                    lists of monthly sales figures.\n",
    "\n",
    "    Returns:\n",
    "        A tuple containing:\n",
    "            - A dictionary of employee total sales.\n",
    "            - A dictionary of month total sales.\n",
    "            - The overall total sales.\n",
    "    \"\"\"\n",
    "    employee_totals = {}\n",
    "    month_totals = {}\n",
    "    overall_total = 0\n",
    "\n",
    "    num_months = len(list(sales_data.values())[0])  # Assuming all employees have same # of months\n",
    "\n",
    "    for employee, monthly_sales in sales_data.items():\n",
    "        employee_total = sum(monthly_sales)\n",
    "        employee_totals[employee] = employee_total\n",
    "        overall_total += employee_total\n",
    "\n",
    "        for i, sale in enumerate(monthly_sales):\n",
    "            month_num = i + 1  # Month numbers start from 1\n",
    "            month_totals[month_num] = month_totals.get(month_num, 0) + sale\n",
    "\n",
    "    return employee_totals, month_totals, overall_total\n",
    "\n",
    "\n",
    "\n",
    "# 2. Determinant of a Matrix (for 3x3)\n",
    "def determinant(matrix):\n",
    "    \"\"\"Calculates the determinant of a 3x3 matrix.\"\"\"\n",
    "    if len(matrix) != 3 or any(len(row) != 3 for row in matrix):\n",
    "        raise ValueError(\"Matrix must be 3x3\")\n",
    "\n",
    "    return (matrix[0][0] * (matrix[1][1] * matrix[2][2] - matrix[1][2] * matrix[2][1]) -\n",
    "            matrix[0][1] * (matrix[1][0] * matrix[2][2] - matrix[1][2] * matrix[2][0]) +\n",
    "            matrix[0][2] * (matrix[1][0] * matrix[2][1] - matrix[1][1] * matrix[2][0]))\n",
    "\n",
    "\n",
    "\n",
    "# 3. Sum of Diagonal Elements\n",
    "def diagonal_sum(matrix):\n",
    "    \"\"\"Calculates the sum of diagonal elements of a square matrix.\"\"\"\n",
    "    n = len(matrix)\n",
    "    if n != len(matrix[0]):  # Check if square matrix\n",
    "        raise ValueError(\"Matrix must be square\")\n",
    "\n",
    "    diagonal_sum = 0\n",
    "    for i in range(n):\n",
    "        diagonal_sum += matrix[i][i]\n",
    "    return diagonal_sum\n",
    "\n",
    "\n",
    "# 4. Maximum Temperature Analysis\n",
    "def temperature_analysis(temperatures):\n",
    "    \"\"\"Analyzes maximum temperature data for 20 cities in January.\"\"\"\n",
    "\n",
    "    city_highest_temps = {}\n",
    "    city_highest_days = {}\n",
    "    city_avg_temps = {}\n",
    "\n",
    "    for city, daily_temps in temperatures.items():\n",
    "        highest_temp = max(daily_temps)\n",
    "        highest_day = daily_temps.index(highest_temp) + 1  # Day 1-based indexing\n",
    "        avg_temp = sum(daily_temps) / len(daily_temps)\n",
    "\n",
    "        city_highest_temps[city] = highest_temp\n",
    "        city_highest_days[city] = highest_day\n",
    "        city_avg_temps[city] = avg_temp\n",
    "\n",
    "    return city_highest_temps, city_highest_days, city_avg_temps\n",
    "\n",
    "\n",
    "\n",
    "# 5. Set Matrix Zeroes\n",
    "def set_matrix_zeroes(matrix):\n",
    "    \"\"\"Sets entire row and column to 0 if an element is 0.\"\"\"\n",
    "    m = len(matrix)\n",
    "    n = len(matrix[0])\n",
    "\n",
    "    rows_to_zero = set()\n",
    "    cols_to_zero = set()\n",
    "\n",
    "    for i in range(m):\n",
    "        for j in range(n):\n",
    "            if matrix[i][j] == 0:\n",
    "                rows_to_zero.add(i)\n",
    "                cols_to_zero.add(j)\n",
    "\n",
    "    for i in range(m):\n",
    "        for j in range(n):\n",
    "            if i in rows_to_zero or j in cols_to_zero:\n",
    "                matrix[i][j] = 0\n",
    "    return matrix\n",
    "\n",
    "\n",
    "# Example Usages (Uncomment to test)\n",
    "\n",
    "\n",
    "sales_data = {\n",
    "    \"Alice\": [1000, 1200, 1500],\n",
    "    \"Bob\": [800, 900, 1100],\n",
    "    \"Charlie\": [1300, 1400, 1600],\n",
    "}\n",
    "emp_totals, month_totals, overall = analyze_sales(sales_data)\n",
    "print(\"1. Sales Analysis:\")\n",
    "print(\"Employee Totals:\", emp_totals)\n",
    "print(\"Month Totals:\", month_totals)\n",
    "print(\"Overall Total:\", overall)\n",
    "\n",
    "\n",
    "\n",
    "matrix2 = [[1, 2, 3], [4, 5, 6], [7, 8, 9]]\n",
    "det = determinant(matrix2)\n",
    "print(\"\\n2. Determinant:\", det)\n",
    "\n",
    "\n",
    "matrix3 = [[1, 2, 3], [4, 5, 6], [7, 8, 9]]\n",
    "diag_sum = diagonal_sum(matrix3)\n",
    "print(\"\\n3. Diagonal Sum:\", diag_sum)\n",
    "\n",
    "\n",
    "\n",
    "temperatures = {\n",
    "    \"CityA\": [25, 28, 26, 29, 27, 30, 28, 29, 31, 30, 29, 28, 27, 26, 25, 24, 26, 27, 28, 29, 30, 31, 30, 29, 28, 27, 26, 25, 24, 23, 22],\n",
    "    # ... (Add temperature data for the other 19 cities)\n",
    "}\n",
    "\n",
    "highest_temps, highest_days, avg_temps = temperature_analysis(temperatures)\n",
    "print(\"\\n4. Temperature Analysis:\")\n",
    "print(\"Highest Temps:\", highest_temps)\n",
    "print(\"Highest Days:\", highest_days)\n",
    "print(\"Average Temps:\", avg_temps)\n",
    "\n",
    "\n",
    "\n",
    "matrix5 = [[1, 1, 1], [1, 0, 1], [1, 1, 1]]\n",
    "set_matrix_zeroes(matrix5)\n",
    "print(\"\\n5. Set Matrix Zeroes:\")\n",
    "print(matrix5)"
   ]
  }
 ],
 "metadata": {
  "kernelspec": {
   "display_name": "Python 3 (ipykernel)",
   "language": "python",
   "name": "python3"
  },
  "language_info": {
   "codemirror_mode": {
    "name": "ipython",
    "version": 3
   },
   "file_extension": ".py",
   "mimetype": "text/x-python",
   "name": "python",
   "nbconvert_exporter": "python",
   "pygments_lexer": "ipython3",
   "version": "3.12.7"
  }
 },
 "nbformat": 4,
 "nbformat_minor": 5
}
