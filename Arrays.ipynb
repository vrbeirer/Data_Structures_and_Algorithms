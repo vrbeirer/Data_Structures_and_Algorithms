{
 "cells": [
  {
   "cell_type": "code",
   "execution_count": 5,
   "id": "f9b53868-ac26-4ff9-adfc-890dff7a20e8",
   "metadata": {},
   "outputs": [
    {
     "name": "stdout",
     "output_type": "stream",
     "text": [
      "[120, 60, 40, 30, 24]\n"
     ]
    }
   ],
   "source": [
    "#Product of give array elements \n",
    "arr = [1, 2, 3, 4, 5]\n",
    "total_product = 1\n",
    "\n",
    "for num in arr:\n",
    "    total_product *= num\n",
    "\n",
    "prod_arr = [total_product // num for num in arr]\n",
    "\n",
    "print(prod_arr)"
   ]
  },
  {
   "cell_type": "code",
   "execution_count": 3,
   "id": "496660d4-e257-455b-ad62-8dbddd1f0aef",
   "metadata": {},
   "outputs": [
    {
     "name": "stdout",
     "output_type": "stream",
     "text": [
      "Input Array: [1, 2, 3, 4]\n",
      "Product Except Self: [24, 12, 8, 6]\n"
     ]
    }
   ],
   "source": [
    "def product_except_self_with_division(arr):\n",
    "    total_product = 1\n",
    "    zero_count = 0\n",
    "    for num in arr:\n",
    "        if num:\n",
    "            total_product *= num\n",
    "        else:\n",
    "            zero_count += 1\n",
    "\n",
    "    return [0 if zero_count > 1 or (zero_count and num) else total_product // (num or 1) for num in arr]\n",
    "\n",
    "# Example usage\n",
    "arr = [1, 2, 3, 4]\n",
    "result = product_except_self_with_division(arr)\n",
    "print(\"Input Array:\", arr)\n",
    "print(\"Product Except Self:\", result)"
   ]
  },
  {
   "cell_type": "code",
   "execution_count": 3,
   "id": "af134c17-2bb2-4af2-9391-f37e0dbc8d44",
   "metadata": {},
   "outputs": [
    {
     "name": "stdout",
     "output_type": "stream",
     "text": [
      "4\n"
     ]
    }
   ],
   "source": [
    "def example(n, d, l, h):\n",
    "    while l <= h:\n",
    "        mid = (l + h) // 2\n",
    "        sumd = sum(int(digit) for digit in str(mid))\n",
    "        sum_d=sum(int(1)for i in str(mid))\n",
    "        diff = mid - sumd\n",
    "        \n",
    "        if diff <= d:\n",
    "            l = mid + 1\n",
    "        else:\n",
    "            h = mid - 1\n",
    "    else:\n",
    "        return (n - h)\n",
    "\n",
    "print(example(13, 2, 1, 13))"
   ]
  },
  {
   "cell_type": "code",
   "execution_count": 2,
   "id": "ca6635fc-eee6-46b9-b901-d4d3413fb522",
   "metadata": {},
   "outputs": [],
   "source": [
    "import numpy as np"
   ]
  },
  {
   "cell_type": "code",
   "execution_count": 9,
   "id": "5620c5cf-a03c-4f50-873c-8df66013aa2c",
   "metadata": {},
   "outputs": [
    {
     "name": "stdout",
     "output_type": "stream",
     "text": [
      "<class 'numpy.ndarray'>\n"
     ]
    }
   ],
   "source": [
    "a = np.array( [1, 2, 3])\n",
    "print(type(a))"
   ]
  },
  {
   "cell_type": "code",
   "execution_count": 15,
   "id": "f9e32f52-25ac-4007-98a2-42aebb9dde15",
   "metadata": {},
   "outputs": [
    {
     "name": "stdout",
     "output_type": "stream",
     "text": [
      "[1, 1, 1, 1, 0, 0, 0]\n"
     ]
    }
   ],
   "source": [
    "num = [1,0,1,0,1,0,1]\n",
    "store = []\n",
    "count = 0\n",
    "i = len(num)-1\n",
    "while i>=0:\n",
    "    if num[i]==1:\n",
    "        store.append(num[i])\n",
    "    elif num[i]==0:\n",
    "        count+=1\n",
    "    i-=1\n",
    "\n",
    "print(store + [0]*count)"
   ]
  },
  {
   "cell_type": "code",
   "execution_count": 22,
   "id": "75fa2be6-1ec5-4203-afdb-0313fe65e997",
   "metadata": {},
   "outputs": [
    {
     "name": "stdout",
     "output_type": "stream",
     "text": [
      "[4, 5, 1, 2, 3]\n"
     ]
    }
   ],
   "source": [
    "#Rotate an Array\n",
    "#WAP a function to rotate an array to the right by k positions\n",
    "\n",
    "def rotate_array(arr, k):\n",
    "    if not arr:\n",
    "        return arr\n",
    "    \n",
    "    k = k % len(arr)  \n",
    "    return arr[-k:] + arr[:-k]\n",
    "\n",
    "\n",
    "arr = [1, 2, 3, 4, 5]\n",
    "k = 2\n",
    "rotated_arr = rotate_array(arr, k)\n",
    "print(rotated_arr) "
   ]
  },
  {
   "cell_type": "code",
   "execution_count": 1,
   "id": "69713817-4c81-4bd0-aef7-cfaa363fa890",
   "metadata": {},
   "outputs": [
    {
     "name": "stdout",
     "output_type": "stream",
     "text": [
      "[1, 2, 3, 4, 5]\n"
     ]
    }
   ],
   "source": [
    "def rotate_array(arr, k):\n",
    "    if not arr:  # Return the same array if it's empty\n",
    "        return arr\n",
    "    \n",
    "    k = k % len(arr)  # Ensure k is within the bounds of the array length\n",
    "    return arr[-k:] + arr[:-k]  # Rotate the array by slicing and rejoining\n",
    "\n",
    "arr = [1, 2, 3, 4, 5]\n",
    "k = 0\n",
    "rotated_arr = rotate_array(arr, k)\n",
    "print(rotated_arr)\n"
   ]
  },
  {
   "cell_type": "code",
   "execution_count": null,
   "id": "8660206b-d0e9-4875-8dc4-8977d37befeb",
   "metadata": {},
   "outputs": [],
   "source": []
  }
 ],
 "metadata": {
  "kernelspec": {
   "display_name": "Python 3 (ipykernel)",
   "language": "python",
   "name": "python3"
  },
  "language_info": {
   "codemirror_mode": {
    "name": "ipython",
    "version": 3
   },
   "file_extension": ".py",
   "mimetype": "text/x-python",
   "name": "python",
   "nbconvert_exporter": "python",
   "pygments_lexer": "ipython3",
   "version": "3.12.7"
  }
 },
 "nbformat": 4,
 "nbformat_minor": 5
}
