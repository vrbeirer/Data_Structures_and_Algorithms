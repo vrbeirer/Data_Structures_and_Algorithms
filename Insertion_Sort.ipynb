{
 "cells": [
  {
   "cell_type": "markdown",
   "id": "bffbc890-69b5-44b9-8828-dc7054a1ffe2",
   "metadata": {},
   "source": [
    "Insertion:\n",
    "\n",
    "Each element is insert into proper position in a previous sorted array or list\n",
    "\n",
    "Algorithm: Insertion-Sort(list):\n",
    "- size=len(list)\n",
    "- for i=1 to size-1, do\n",
    "- temp=list[i]\n",
    "- j=i-1\n",
    "- while temp<list[j]and j>=0,do\n",
    "- list[j+1]=list[j]\n",
    "- j=j-1\n",
    "- list[j+1]=temp\n",
    "- exit\n",
    "- worest case: O(n^2)\n",
    "- best case: O(n)\n",
    "  \n"
   ]
  },
  {
   "cell_type": "code",
   "execution_count": 1,
   "id": "99b0b988-31e4-464d-8da8-ab60e1ed7bfe",
   "metadata": {},
   "outputs": [
    {
     "name": "stdin",
     "output_type": "stream",
     "text": [
      "Enter the number of elements:  5\n",
      "Enter the elements:  9\n",
      "Enter the elements:  6\n",
      "Enter the elements:  3\n",
      "Enter the elements:  1\n",
      "Enter the elements:  8\n"
     ]
    },
    {
     "name": "stdout",
     "output_type": "stream",
     "text": [
      "The sorted elements are:\n",
      "1 3 6 8 9 "
     ]
    }
   ],
   "source": [
    "def insertion_sort(list):\n",
    "    size = len(list)\n",
    "    for i in range(1, size):  # Start from 1 since we compare with previous elements\n",
    "        temp = list[i]\n",
    "        j = i - 1\n",
    "        while j >= 0 and temp < list[j]:\n",
    "            list[j + 1] = list[j]\n",
    "            j -= 1\n",
    "        list[j + 1] = temp\n",
    "\n",
    "n = int(input(\"Enter the number of elements: \"))\n",
    "l = []\n",
    "for i in range(n):\n",
    "    num = int(input(\"Enter the elements: \"))\n",
    "    l.append(num)\n",
    "\n",
    "insertion_sort(l)\n",
    "print(\"The sorted elements are:\")\n",
    "for i in range(n):\n",
    "    print(l[i], end=\" \")\n"
   ]
  },
  {
   "cell_type": "code",
   "execution_count": 2,
   "id": "b4775dab-20bf-4b53-969d-f2edb26d9736",
   "metadata": {},
   "outputs": [
    {
     "name": "stdin",
     "output_type": "stream",
     "text": [
      "Enter the number of elements:  4\n",
      "Enter the elements:  99\n",
      "Enter the elements:  78\n",
      "Enter the elements:  54\n",
      "Enter the elements:  3\n"
     ]
    },
    {
     "name": "stdout",
     "output_type": "stream",
     "text": [
      "The sorted elements are:\n",
      "3 54 78 99 "
     ]
    }
   ],
   "source": [
    "def insertion_sort(list):\n",
    "    size = len(list)\n",
    "    for i in range(1, size):  # Start from 1 since we compare with previous elements\n",
    "        temp = list[i]\n",
    "        j = i - 1\n",
    "        while j >= 0 and temp < list[j]:\n",
    "            list[j + 1] = list[j]\n",
    "            j -= 1\n",
    "        list[j + 1] = temp\n",
    "\n",
    "n = int(input(\"Enter the number of elements: \"))\n",
    "l = []\n",
    "for i in range(n):\n",
    "    num = int(input(\"Enter the elements: \"))\n",
    "    l.append(num)\n",
    "\n",
    "insertion_sort(l)\n",
    "print(\"The sorted elements are:\")\n",
    "for i in range(n):\n",
    "    print(l[i], end=\" \")"
   ]
  },
  {
   "cell_type": "code",
   "execution_count": null,
   "id": "b3918364-1fa7-405f-b2da-956f5ac53a1b",
   "metadata": {},
   "outputs": [],
   "source": []
  }
 ],
 "metadata": {
  "kernelspec": {
   "display_name": "Python 3 (ipykernel)",
   "language": "python",
   "name": "python3"
  },
  "language_info": {
   "codemirror_mode": {
    "name": "ipython",
    "version": 3
   },
   "file_extension": ".py",
   "mimetype": "text/x-python",
   "name": "python",
   "nbconvert_exporter": "python",
   "pygments_lexer": "ipython3",
   "version": "3.12.7"
  }
 },
 "nbformat": 4,
 "nbformat_minor": 5
}
