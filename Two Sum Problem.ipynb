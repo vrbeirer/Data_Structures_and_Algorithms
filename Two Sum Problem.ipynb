{
 "cells": [
  {
   "cell_type": "code",
   "execution_count": 1,
   "id": "25675790-6ff2-4ee6-ab31-df2da83b65a7",
   "metadata": {},
   "outputs": [
    {
     "name": "stdout",
     "output_type": "stream",
     "text": [
      "[0, 1]\n"
     ]
    }
   ],
   "source": [
    "def two_sum(arr, target):\n",
    "    num_map = {}\n",
    "    for i, num in enumerate(arr):\n",
    "        complement = target - num\n",
    "        if complement in num_map:\n",
    "            return [num_map[complement], i]\n",
    "        num_map[num] = i\n",
    "    return []\n",
    "\n",
    "\n",
    "arr = [2, 7, 11, 15]\n",
    "print(two_sum(arr, 9))\n"
   ]
  },
  {
   "cell_type": "code",
   "execution_count": null,
   "id": "05998cc3-9367-4854-926d-e1e5bcb41069",
   "metadata": {},
   "outputs": [],
   "source": []
  }
 ],
 "metadata": {
  "kernelspec": {
   "display_name": "Python 3 (ipykernel)",
   "language": "python",
   "name": "python3"
  },
  "language_info": {
   "codemirror_mode": {
    "name": "ipython",
    "version": 3
   },
   "file_extension": ".py",
   "mimetype": "text/x-python",
   "name": "python",
   "nbconvert_exporter": "python",
   "pygments_lexer": "ipython3",
   "version": "3.12.4"
  }
 },
 "nbformat": 4,
 "nbformat_minor": 5
}
