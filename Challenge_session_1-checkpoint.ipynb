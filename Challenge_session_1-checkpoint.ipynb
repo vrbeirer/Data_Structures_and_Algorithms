{
 "cells": [
  {
   "cell_type": "code",
   "execution_count": 2,
   "id": "655a9201-16ad-4212-b490-102a8b2eb23d",
   "metadata": {},
   "outputs": [
    {
     "name": "stdin",
     "output_type": "stream",
     "text": [
      "Enter number of Elements:  5\n",
      "Enter the Elements:  10\n",
      "Enter the Elements:  1\n",
      "Enter the Elements:  5\n",
      "Enter the Elements:  9\n",
      "Enter the Elements:  2\n"
     ]
    },
    {
     "name": "stdout",
     "output_type": "stream",
     "text": [
      "The sorted elements are:\n",
      "10 9 5 2 1 "
     ]
    }
   ],
   "source": [
    "#1) bublle Sort - descending order\n",
    "def bubble_sort(list):\n",
    "    size = len(list)\n",
    "    for i in range(size - 1):\n",
    "        for j in range(size - i - 1):  \n",
    "            if list[j] < list[j + 1]:\n",
    "                temp = list[j]\n",
    "                list[j] = list[j + 1]\n",
    "                list[j + 1] = temp\n",
    "\n",
    "n = int(input(\"Enter number of Elements: \"))\n",
    "l = []\n",
    "for i in range(n):\n",
    "    num = int(input(\"Enter the Elements: \"))\n",
    "    l.append(num)\n",
    "\n",
    "bubble_sort(l)\n",
    "print(\"The sorted elements are:\")\n",
    "for i in range(n):\n",
    "    print(l[i], end=\" \")"
   ]
  },
  {
   "cell_type": "code",
   "execution_count": 6,
   "id": "9644e814-92bd-4188-8eb5-11cf1ab3f78e",
   "metadata": {},
   "outputs": [
    {
     "name": "stdin",
     "output_type": "stream",
     "text": [
      "Enter number of elements:  9\n",
      "Enter element 1:  10\n",
      "Enter element 2:  20\n",
      "Enter element 3:  30\n",
      "Enter element 4:  20\n",
      "Enter element 5:  10\n",
      "Enter element 6:  0\n",
      "Enter element 7:  40\n",
      "Enter element 8:  70\n",
      "Enter element 9:  20\n"
     ]
    },
    {
     "name": "stdout",
     "output_type": "stream",
     "text": [
      "\n",
      "Sorted array in ascending order:\n",
      "[0, 10, 10, 20, 20, 20, 30, 40, 70]\n",
      "\n",
      "Number of swaps for each element:\n",
      "Element 0: 1 swaps\n",
      "Element 10: 2 swaps\n",
      "Element 10: 3 swaps\n",
      "Element 20: 2 swaps\n",
      "Element 20: 1 swaps\n",
      "Element 20: 1 swaps\n",
      "Element 30: 1 swaps\n",
      "Element 40: 1 swaps\n",
      "Element 70: 0 swaps\n"
     ]
    }
   ],
   "source": [
    "#2) bubble sort - ascending order (count and display the each element  no of times  swapping )\n",
    "\n",
    "def bubble_sort_with_swaps(arr):\n",
    "    size = len(arr)\n",
    "    swap_counts = [0] * size  \n",
    "\n",
    "    for i in range(size - 1):\n",
    "        for j in range(size - i - 1):\n",
    "            if arr[j] > arr[j + 1]:\n",
    "              \n",
    "                arr[j], arr[j + 1] = arr[j + 1], arr[j]\n",
    "                swap_counts[j] += 1  \n",
    "\n",
    "    return arr, swap_counts\n",
    "\n",
    "n = int(input(\"Enter number of elements: \"))\n",
    "arr = []\n",
    "for i in range(n):\n",
    "    num = int(input(f\"Enter element {i + 1}: \"))\n",
    "    arr.append(num)\n",
    "\n",
    "\n",
    "sorted_arr, swap_counts = bubble_sort_with_swaps(arr)\n",
    "\n",
    "print(\"\\nSorted array in ascending order:\")\n",
    "print(sorted_arr)\n",
    "\n",
    "print(\"\\nNumber of swaps for each element:\")\n",
    "for i in range(len(swap_counts)):\n",
    "    print(f\"Element {arr[i]}: {swap_counts[i]} swaps\")"
   ]
  },
  {
   "cell_type": "code",
   "execution_count": null,
   "id": "186169c1-b939-4046-abdc-8637962033ad",
   "metadata": {},
   "outputs": [],
   "source": []
  }
 ],
 "metadata": {
  "kernelspec": {
   "display_name": "Python 3 (ipykernel)",
   "language": "python",
   "name": "python3"
  },
  "language_info": {
   "codemirror_mode": {
    "name": "ipython",
    "version": 3
   },
   "file_extension": ".py",
   "mimetype": "text/x-python",
   "name": "python",
   "nbconvert_exporter": "python",
   "pygments_lexer": "ipython3",
   "version": "3.12.7"
  }
 },
 "nbformat": 4,
 "nbformat_minor": 5
}
