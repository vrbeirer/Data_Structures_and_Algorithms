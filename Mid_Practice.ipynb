{
 "cells": [
  {
   "cell_type": "code",
   "execution_count": 36,
   "id": "bddc2f7c-eb42-4551-8fab-93ff79b786ef",
   "metadata": {},
   "outputs": [
    {
     "name": "stdout",
     "output_type": "stream",
     "text": [
      "[1, 3, 12, 0, 0]\n"
     ]
    }
   ],
   "source": [
    "#1.Move Zeroes to the End\n",
    "def move_zeroes(arr):\n",
    "    non_zero_index = 0\n",
    "    for i in range(len(arr)):\n",
    "        if arr[i] != 0:\n",
    "            arr[i], arr[non_zero_index] = arr[non_zero_index], arr[i]\n",
    "            non_zero_index += 1\n",
    "    return arr\n",
    "\n",
    "# Test\n",
    "arr = [0, 1, 0, 3, 12]\n",
    "print(move_zeroes(arr))  "
   ]
  },
  {
   "cell_type": "code",
   "execution_count": 37,
   "id": "ff021a8f-b36c-4355-847a-b9e7099a8924",
   "metadata": {},
   "outputs": [
    {
     "name": "stdout",
     "output_type": "stream",
     "text": [
      "[4, 5, 1, 2, 3]\n"
     ]
    }
   ],
   "source": [
    "#2.Rotate an Array\n",
    "#WAP a function to rotate an array to the right by k positions\n",
    "def rotate_array(arr, k):\n",
    "    k %= len(arr)\n",
    "    return arr[-k:] + arr[:-k]\n",
    "arr = [1, 2, 3, 4, 5]\n",
    "print(rotate_array(arr, 2))  "
   ]
  },
  {
   "cell_type": "code",
   "execution_count": 38,
   "id": "5e08c051-f6d6-4f84-8e26-35b03b03eff4",
   "metadata": {},
   "outputs": [
    {
     "name": "stdout",
     "output_type": "stream",
     "text": [
      "Determinant of the matrix: 9\n"
     ]
    }
   ],
   "source": [
    "#3.Write a program to find the determinant of a matrix\n",
    "def determinant(matrix, n):\n",
    "    if n == 1:\n",
    "        return matrix[0][0]\n",
    "\n",
    "    if n == 2:\n",
    "        return (matrix[0][0] * matrix[1][1]) - (matrix[0][1] * matrix[1][0])\n",
    "\n",
    "    det = 0\n",
    "    for i in range(n):\n",
    "        sub_matrix = []\n",
    "        for j in range(1, n):\n",
    "            row = []\n",
    "            for k in range(n):\n",
    "                if k != i:\n",
    "                    row.append(matrix[j][k])\n",
    "            sub_matrix.append(row)\n",
    "\n",
    "        det += ((-1) ** i) * matrix[0][i] * determinant(sub_matrix, n - 1)\n",
    "    \n",
    "    return det\n",
    "\n",
    "# Example 3x3 matrix\n",
    "matrix = [\n",
    "    [2, 3, 1],\n",
    "    [4, 5, 6],\n",
    "    [7, 8, 9]\n",
    "]\n",
    "\n",
    "print(\"Determinant of the matrix:\", determinant(matrix, len(matrix)))\n"
   ]
  },
  {
   "cell_type": "code",
   "execution_count": 39,
   "id": "88ff6ae6-6bb1-406b-ad3c-5ab30c40a413",
   "metadata": {},
   "outputs": [
    {
     "name": "stdout",
     "output_type": "stream",
     "text": [
      "Sum of diagonal elements: 16\n"
     ]
    }
   ],
   "source": [
    "#4.Write a program to find the sum of diagonal elements of a square matrix.\n",
    "# Example square matrix\n",
    "matrix = [\n",
    "    [2, 3, 1],\n",
    "    [4, 5, 6],\n",
    "    [7, 8, 9]\n",
    "]\n",
    "\n",
    "# Sum of diagonal elements\n",
    "diagonal_sum = 0\n",
    "for i in range(len(matrix)):\n",
    "    diagonal_sum += matrix[i][i]\n",
    "\n",
    "print(\"Sum of diagonal elements:\", diagonal_sum)\n"
   ]
  },
  {
   "cell_type": "code",
   "execution_count": 40,
   "id": "04a96834-9471-4b62-8c96-49c28837c909",
   "metadata": {},
   "outputs": [
    {
     "name": "stdout",
     "output_type": "stream",
     "text": [
      "The GCD of 14 and 63 is: 7\n"
     ]
    }
   ],
   "source": [
    "#5.WAP for GCD using recursive\n",
    "def gcd_recursive(m, n):\n",
    "    if n == 0:\n",
    "        return m\n",
    "    else:\n",
    "        return gcd_recursive(n, m % n)\n",
    "\n",
    "# Example usage:\n",
    "result = gcd_recursive(14, 63)\n",
    "print(f\"The GCD of 14 and 63 is: {result}\")  # Output: The GCD of 14 and 63 is: 7"
   ]
  },
  {
   "cell_type": "code",
   "execution_count": 41,
   "id": "f0ebe00f-8237-42ff-89e3-01d5b7c5a150",
   "metadata": {},
   "outputs": [
    {
     "name": "stdout",
     "output_type": "stream",
     "text": [
      "120\n"
     ]
    }
   ],
   "source": [
    "#6.WAP to print factorial using recursive\n",
    "#Recursive\n",
    "def factorial(n):\n",
    "    if n==1:\n",
    "        return 1\n",
    "    else:\n",
    "        return n*factorial(n-1)\n",
    "result=factorial(5)\n",
    "print(result)"
   ]
  },
  {
   "cell_type": "code",
   "execution_count": 42,
   "id": "f63134c5-df28-4144-91fc-b16a9946f8c8",
   "metadata": {},
   "outputs": [
    {
     "name": "stdout",
     "output_type": "stream",
     "text": [
      "Move disk 1 from A to C\n",
      "Move disk 2 from A to B\n",
      "Move disk 1 from C to B\n",
      "Move disk 3 from A to C\n",
      "Move disk 1 from B to A\n",
      "Move disk 2 from B to C\n",
      "Move disk 1 from A to C\n"
     ]
    }
   ],
   "source": [
    "#7.Tower of Hanoi using recursive\n",
    "def hanoi(n, src, aux, dest):\n",
    "    if n == 1:\n",
    "        print(f\"Move disk {n} from {src} to {dest}\")\n",
    "        return\n",
    "    hanoi(n-1, src, dest, aux)\n",
    "    print(f\"Move disk {n} from {src} to {dest}\")\n",
    "    hanoi(n-1, aux, src, dest)\n",
    "\n",
    "hanoi(3, 'A', 'B', 'C')\n"
   ]
  },
  {
   "cell_type": "markdown",
   "id": "cfccb457-e79f-4b49-a995-aa29bab0892d",
   "metadata": {},
   "source": [
    "#8.Asymptotic Notation- Big(o),Theta, omega.-5mrk.\n",
    "Asymptotic Notation: Big-O, Big-Theta, and Big-Omega\n",
    "Asymptotic notation is used to describe the efficiency of algorithms, especially in terms of their time or space complexity as input size grows.\n",
    "\n",
    "\n",
    "Big-O Notation (O):\n",
    "\n",
    "Definition: Describes the upper bound (worst-case scenario) of an algorithm's time complexity.\n",
    "Example: \n",
    "𝑂(𝑛2)O(n 2) means the algorithm's time grows at most quadratically.\n",
    "Big-Theta Notation (Θ):\n",
    "\n",
    "Definition: Describes the exact bound (both upper and lower) of an algorithm's time complexity.\n",
    "Example: \n",
    "Θ(𝑛log⁡𝑛)Θ(nlogn) means the time grows at the exact rate of \n",
    "𝑛log⁡𝑛nlogn.\n",
    "Big-Omega Notation (Ω):\n",
    "\n",
    "Definition: Describes the lower bound (best-case scenario) of an algorithm's time complexity.\n",
    "Example: \n",
    "Ω(𝑛)Ω(n) means the algorithm will take at least linear time.\n",
    "Summary:\n",
    "Big-O: Worst-case (upper bound).\n",
    "Big-Theta: Exact (both upper and lower bounds).\n",
    "Big-Omega: Best-case (lower bound)."
   ]
  },
  {
   "cell_type": "code",
   "execution_count": 18,
   "id": "9e32ccd7-5ef6-4803-9f26-0635ecf60708",
   "metadata": {},
   "outputs": [
    {
     "name": "stdout",
     "output_type": "stream",
     "text": [
      "5 --> 10 --> 20 --> 25 --> 30 --> 40 --> None\n"
     ]
    }
   ],
   "source": [
    "#Double_Linked_List_Insertion_Operations\n",
    "class Node:\n",
    "    def __init__(self, data):\n",
    "        self.data = data\n",
    "        self.prev = None\n",
    "        self.next = None\n",
    "\n",
    "class DLL:\n",
    "    def __init__(self):\n",
    "        self.head = None\n",
    "\n",
    "    # Insert at the beginning of the list\n",
    "    def insert_beg(self, data):\n",
    "        x = Node(data)\n",
    "        if self.head is None:  # If the list is empty\n",
    "            self.head = x\n",
    "        else:\n",
    "            x.next = self.head\n",
    "            self.head.prev = x\n",
    "            self.head = x\n",
    "\n",
    "    # Insert at the end of the list\n",
    "    def insert_end(self, data):\n",
    "        y = Node(data)\n",
    "        if self.head is None:  # If the list is empty\n",
    "            self.head = y\n",
    "            return\n",
    "        temp = self.head\n",
    "        while temp.next is not None:\n",
    "            temp = temp.next\n",
    "        temp.next = y\n",
    "        y.prev = temp\n",
    "\n",
    "    # Insert at a specific position in the list\n",
    "    def insert_pos(self, data, pos):\n",
    "        if pos < 1:\n",
    "            print(\"Position should be >= 1\")\n",
    "            return\n",
    "\n",
    "        n = Node(data)\n",
    "        if pos == 1:  # Insert at the beginning\n",
    "            self.insert_beg(data)\n",
    "            return\n",
    "\n",
    "        temp = self.head\n",
    "        for i in range(1, pos - 1):\n",
    "            if temp is None:\n",
    "                print(\"Position out of bounds\")\n",
    "                return\n",
    "            temp = temp.next\n",
    "        \n",
    "        # Insert at the end\n",
    "        if temp.next is None:\n",
    "            self.insert_end(data)\n",
    "            return\n",
    "\n",
    "        n.next = temp.next\n",
    "        n.prev = temp\n",
    "        temp.next.prev = n\n",
    "        temp.next = n\n",
    "\n",
    "    # Display the list\n",
    "    def display(self):\n",
    "        if self.head is None:\n",
    "            print(\"LL is Empty\")\n",
    "        else:\n",
    "            temp = self.head\n",
    "            while temp:\n",
    "                print(temp.data, \"-->\", end=\" \")\n",
    "                temp = temp.next\n",
    "            print(\"None\")\n",
    "\n",
    "# Example Usage\n",
    "D = DLL()\n",
    "\n",
    "# Adding nodes manually to the list\n",
    "n1 = Node(10)\n",
    "D.head = n1\n",
    "n2 = Node(20)\n",
    "n2.prev = n1\n",
    "n1.next = n2\n",
    "n3 = Node(30)\n",
    "n3.prev = n2\n",
    "n2.next = n3\n",
    "\n",
    "# Inserting nodes at different positions\n",
    "D.insert_beg(5)  # Insert at the beginning\n",
    "D.insert_end(40) # Insert at the end\n",
    "D.insert_pos(25, 4)  # Insert at position 4\n",
    "\n",
    "D.display()\n"
   ]
  },
  {
   "cell_type": "code",
   "execution_count": 19,
   "id": "35bcb233-8d0b-4192-aeb7-f01dd003a8e3",
   "metadata": {},
   "outputs": [
    {
     "name": "stdout",
     "output_type": "stream",
     "text": [
      "List is Empty\n"
     ]
    }
   ],
   "source": [
    "#Deletion_Operations\n",
    "class Node:\n",
    "    def __init__(self, data):\n",
    "        self.data = data\n",
    "        self.prev = None\n",
    "        self.next = None\n",
    "\n",
    "class DLL:\n",
    "    def __init__(self):\n",
    "        self.head = None\n",
    "\n",
    "    def delete_beg(self):\n",
    "        if self.head:\n",
    "            self.head = self.head.next\n",
    "            if self.head:\n",
    "                self.head.prev = None\n",
    "\n",
    "    def delete_end(self):\n",
    "        if self.head:\n",
    "            temp = self.head\n",
    "            while temp.next:\n",
    "                temp = temp.next\n",
    "            if temp.prev:\n",
    "                temp.prev.next = None\n",
    "            else:\n",
    "                self.head = None\n",
    "\n",
    "    def delete_pos(self, pos):\n",
    "        if self.head:\n",
    "            temp = self.head\n",
    "            if pos == 1:\n",
    "                self.delete_beg()\n",
    "                return\n",
    "            for _ in range(1, pos):\n",
    "                if temp.next is None:\n",
    "                    print(\"Position out of range\")\n",
    "                    return\n",
    "                temp = temp.next\n",
    "            temp.prev.next = temp.next\n",
    "            if temp.next:\n",
    "                temp.next.prev = temp.prev\n",
    "\n",
    "    def display(self):\n",
    "        if not self.head:\n",
    "            print(\"List is Empty\")\n",
    "            return\n",
    "        temp = self.head\n",
    "        while temp:\n",
    "            print(temp.data, end=\" --> \")\n",
    "            temp = temp.next\n",
    "        print(\"None\")\n",
    "\n",
    "# Example Usage\n",
    "D = DLL()\n",
    "D.head = Node(10)\n",
    "D.head.next = Node(20)\n",
    "D.head.next.prev = D.head\n",
    "D.head.next.next = Node(30)\n",
    "D.head.next.next.prev = D.head.next\n",
    "\n",
    "D.delete_beg()\n",
    "D.delete_end()\n",
    "D.delete_pos(1)\n",
    "D.display()\n"
   ]
  },
  {
   "cell_type": "code",
   "execution_count": 23,
   "id": "80ff212b-b32c-48ba-9b05-ecb12dc76b04",
   "metadata": {},
   "outputs": [
    {
     "name": "stdout",
     "output_type": "stream",
     "text": [
      "Sum of diagonal elements: 16\n"
     ]
    }
   ],
   "source": [
    "#Array -difficult:\n",
    "# Example square matrix\n",
    "matrix = [\n",
    "    [2, 3, 1],\n",
    "    [4, 5, 6],\n",
    "    [7, 8, 9]\n",
    "]\n",
    "\n",
    "# Sum of diagonal elements\n",
    "diagonal_sum = 0\n",
    "for i in range(len(matrix)):\n",
    "    diagonal_sum += matrix[i][i]\n",
    "\n",
    "print(\"Sum of diagonal elements:\", diagonal_sum)\n"
   ]
  },
  {
   "cell_type": "code",
   "execution_count": 25,
   "id": "f6a2a0fc-d010-4b31-9e0f-0ca2932ec78c",
   "metadata": {},
   "outputs": [
    {
     "name": "stdout",
     "output_type": "stream",
     "text": [
      "[4, 5, 1, 2, 3]\n"
     ]
    }
   ],
   "source": [
    "def rotate_array(arr, k):\n",
    "    k %= len(arr)\n",
    "    return arr[-k:] + arr[:-k]\n",
    "arr = [1, 2, 3, 4, 5]\n",
    "print(rotate_array(arr, 2))  "
   ]
  },
  {
   "cell_type": "code",
   "execution_count": 33,
   "id": "776fe5b6-41a5-4ff5-8ee0-f546d7c8258c",
   "metadata": {},
   "outputs": [
    {
     "name": "stdout",
     "output_type": "stream",
     "text": [
      "[1, 3, 12, 0, 0]\n"
     ]
    }
   ],
   "source": [
    "#1.Move Zeroes to the End\n",
    "def move_zeroes(arr):\n",
    "    non_zero_index = 0\n",
    "    for i in range(len(arr)):\n",
    "        if arr[i] != 0:\n",
    "            arr[i], arr[non_zero_index] = arr[non_zero_index], arr[i]\n",
    "            non_zero_index += 1\n",
    "    return arr\n",
    "\n",
    "# Test\n",
    "arr = [0, 1, 0, 3, 12]\n",
    "print(move_zeroes(arr))  "
   ]
  },
  {
   "cell_type": "code",
   "execution_count": 37,
   "id": "175b0788-906c-4551-9e95-716964b5ae16",
   "metadata": {},
   "outputs": [
    {
     "name": "stdout",
     "output_type": "stream",
     "text": [
      "[1, 3, 12, 0, 0]\n"
     ]
    }
   ],
   "source": [
    "def move_zero(arr):\n",
    "    non_zero_index=0\n",
    "    for i in range(len(arr)):\n",
    "        if arr[i]!=0:\n",
    "            arr[i],arr[non_zero_index]=arr[non_zero_index],arr[i]\n",
    "            non_zero_index+=1\n",
    "    return arr\n",
    "print(move_zero(arr))"
   ]
  },
  {
   "cell_type": "code",
   "execution_count": null,
   "id": "aa9d3be7-d652-41fa-8b6b-862eaa36977f",
   "metadata": {},
   "outputs": [],
   "source": [
    "# Doubly Linked List \n",
    "\n",
    "    def display_reverse(self, curNode):\n",
    "        if curNode is None:\n",
    "            print(\"None\", end=\" <- \")  # Print None at the start\n",
    "            return\n",
    "        \n",
    "        self.display_reverse(curNode.nlink)  # Recursive call to the next node\n",
    "        print(curNode.data, end=\" <- \")"
   ]
  },
  {
   "cell_type": "code",
   "execution_count": null,
   "id": "a569f010-1ce3-41ad-a79c-f5310bd56a26",
   "metadata": {},
   "outputs": [],
   "source": [
    "def display_reverse(self,curNode):\n",
    "        if curNode is None:\n",
    "            return\n",
    "        \n",
    "        self.display_reverse(curNode.nlink)\n",
    "        print(curNode.data, end=' -> ')"
   ]
  },
  {
   "cell_type": "code",
   "execution_count": null,
   "id": "1b95a91c-8954-4da0-b73e-69c64a8bd06e",
   "metadata": {},
   "outputs": [],
   "source": [
    "def display_reverse(self,curNode):\n",
    "    if curNode is None:\n",
    "        return\n",
    "        self.display_reverse(curNode.nlink)\n",
    "        print(curNode.data,end='-->')"
   ]
  },
  {
   "cell_type": "code",
   "execution_count": null,
   "id": "184b486a-7510-4a89-8344-6bf58712fbf6",
   "metadata": {},
   "outputs": [],
   "source": [
    "def display_reverse(self,curNode):\n",
    "    if curNode is None:\n",
    "        print(\"None\",end='-->')\n",
    "        return\n",
    "        self.dispaly_reverse(curNode.nlink)\n",
    "        print(curNode.data,end='-->')"
   ]
  },
  {
   "cell_type": "code",
   "execution_count": null,
   "id": "245671fd-e61b-4f49-86ae-8a54dde02330",
   "metadata": {},
   "outputs": [],
   "source": [
    "class Node:\n",
    "    def __inti__(self,data):\n",
    "        self.data=data\n",
    "        self.next=None\n",
    "class Linked_List:\n",
    "    def __init__(self):\n",
    "        self.head=None\n",
    "def insert_at_begin(self,data):\n",
    "    new_node=Node(data)\n",
    "    new_node.next=self.head\n",
    "    self.head=new_node\n"
   ]
  },
  {
   "cell_type": "code",
   "execution_count": null,
   "id": "453231af-c9b9-41da-89d4-edbdeeab0ce2",
   "metadata": {},
   "outputs": [],
   "source": [
    "def Insert(self,data):\n",
    "    new_node=Node(data)\n",
    "    new_node.next=self.head\n",
    "    self.head=new_node\n"
   ]
  },
  {
   "cell_type": "code",
   "execution_count": null,
   "id": "ac654b2f-5e77-47d4-80d2-f99992883d9d",
   "metadata": {},
   "outputs": [],
   "source": [
    "def delete(self,key):\n",
    "    temp=self.head\n",
    "    if temp and temp.data==key:\n",
    "        self.head=temp.next\n",
    "        temp=None\n",
    "        return \n",
    "    "
   ]
  },
  {
   "cell_type": "code",
   "execution_count": null,
   "id": "ebf46121-667e-4389-97e6-35c07dcd4071",
   "metadata": {},
   "outputs": [],
   "source": [
    "class Node:\n",
    "    def __init__(self,data):\n",
    "        self.data=data\n",
    "        self.head=None\n",
    "class LL:\n",
    "    def __init__(self):\n",
    "        self.head=None\n",
    "def insert(self,data):\n",
    "    new_node=Node(data)\n",
    "    new_node.next=self.head\n",
    "    self.head=newNode\n",
    "def delete(self,key):\n",
    "    temp=self.head\n",
    "    if temp and temp.data==key:\n",
    "        self.temp=next\n",
    "        temp=None\n",
    "        return"
   ]
  }
 ],
 "metadata": {
  "kernelspec": {
   "display_name": "Python 3 (ipykernel)",
   "language": "python",
   "name": "python3"
  },
  "language_info": {
   "codemirror_mode": {
    "name": "ipython",
    "version": 3
   },
   "file_extension": ".py",
   "mimetype": "text/x-python",
   "name": "python",
   "nbconvert_exporter": "python",
   "pygments_lexer": "ipython3",
   "version": "3.12.7"
  }
 },
 "nbformat": 4,
 "nbformat_minor": 5
}
