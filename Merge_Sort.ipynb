{
 "cells": [
  {
   "cell_type": "code",
   "execution_count": 3,
   "id": "b9f327cf-8e56-4380-bb4c-e07e8f81249d",
   "metadata": {},
   "outputs": [
    {
     "name": "stdin",
     "output_type": "stream",
     "text": [
      "Enter the number of elements: 7\n",
      "Enter the element: 33\n",
      "Enter the element: 85\n",
      "Enter the element: 40\n",
      "Enter the element: 12\n",
      "Enter the element: 577\n",
      "Enter the element: 2\n",
      "Enter the element: 25\n"
     ]
    },
    {
     "name": "stdout",
     "output_type": "stream",
     "text": [
      "Original Array: [33, 85, 40, 12, 577, 2, 25]\n",
      "Sorted array: [2, 12, 25, 33, 40, 85, 577]\n"
     ]
    }
   ],
   "source": [
    "def MergeList(arr,lst,lend,rst,rend):\n",
    "    temp=[]\n",
    "    i=lst# i points to the beginning of the left subarray\n",
    "    j=rst # j points to the beginning of the right subarray\n",
    "    #Merge the wo subarray into the temp list\n",
    "    while i<=lend and j<=rend:\n",
    "        if arr[i]<arr[j]:\n",
    "            temp.append(arr[i])\n",
    "            i+=1\n",
    "        else:\n",
    "            temp.append(arr[j])\n",
    "            j+=1\n",
    "    #if there are any remaining elements in the left subarray\n",
    "    while i<=lend:\n",
    "        temp.append(arr[i])\n",
    "        i+=1\n",
    "    # if there are any remaining elements in the right subarray\n",
    "    while j<=rend:\n",
    "        temp.append(arr[j])\n",
    "        j+=1\n",
    "    #copy the sorted elements back into the orginal array\n",
    "    for i in range(lst,rend+1):\n",
    "        arr[i]=temp[i-lst]\n",
    "def mergesort(arr,left,right):\n",
    "    if left < right:\n",
    "        mid=(left + right)//2 # correct mid calculation\n",
    "        #recursively sort the  two halves \n",
    "        mergesort(arr,left,mid)\n",
    "        mergesort(arr,mid+1,right)\n",
    "        # merge the sorted halves\n",
    "        MergeList(arr,left,mid,mid+1,right)\n",
    "# Main program to input and test the sorting\n",
    "arr=[]\n",
    "n=int(input(\"Enter the number of elements:\"))\n",
    "for i in range(n):\n",
    "    arr.append(int(input(\"Enter the element:\")))\n",
    "\n",
    "print(\"Original Array:\",arr)\n",
    "mergesort(arr,0,n-1)\n",
    "print(\"Sorted array:\",arr)\n",
    "        "
   ]
  },
  {
   "cell_type": "code",
   "execution_count": 1,
   "id": "0651728f-0ae6-4214-a1a2-b4c45eda8fef",
   "metadata": {},
   "outputs": [
    {
     "name": "stdin",
     "output_type": "stream",
     "text": [
      "Enter number of Elements:  3\n",
      "Enter an element:  9\n",
      "Enter an element:  1\n",
      "Enter an element:  8\n"
     ]
    },
    {
     "name": "stdout",
     "output_type": "stream",
     "text": [
      "The sorted elements are: 1 8 9\n"
     ]
    }
   ],
   "source": [
    "def merge_sort(lst):\n",
    "    if len(lst) > 1:\n",
    "        mid = len(lst) // 2\n",
    "        left, right = lst[:mid], lst[mid:]\n",
    "        merge_sort(left)\n",
    "        merge_sort(right)\n",
    "        i = j = k = 0\n",
    "        while i < len(left) and j < len(right):\n",
    "            lst[k] = left[i] if left[i] < right[j] else right[j]\n",
    "            i, j = (i + 1, j) if left[i] < right[j] else (i, j + 1)\n",
    "            k += 1\n",
    "        lst[k:] = left[i:] if i < len(left) else right[j:]\n",
    "\n",
    "lst = [int(input(\"Enter an element: \")) for _ in range(int(input(\"Enter number of Elements: \")))]\n",
    "merge_sort(lst)\n",
    "print(\"The sorted elements are:\", *lst)\n"
   ]
  },
  {
   "cell_type": "code",
   "execution_count": null,
   "id": "3b6030ab-16d0-4fcc-809a-09f6bcb056df",
   "metadata": {},
   "outputs": [],
   "source": []
  }
 ],
 "metadata": {
  "kernelspec": {
   "display_name": "Python 3 (ipykernel)",
   "language": "python",
   "name": "python3"
  },
  "language_info": {
   "codemirror_mode": {
    "name": "ipython",
    "version": 3
   },
   "file_extension": ".py",
   "mimetype": "text/x-python",
   "name": "python",
   "nbconvert_exporter": "python",
   "pygments_lexer": "ipython3",
   "version": "3.12.7"
  }
 },
 "nbformat": 4,
 "nbformat_minor": 5
}
