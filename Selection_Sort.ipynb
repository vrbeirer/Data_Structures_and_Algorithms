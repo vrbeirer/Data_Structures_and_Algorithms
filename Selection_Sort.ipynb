{
 "cells": [
  {
   "cell_type": "markdown",
   "id": "09eaee2a-7a56-4d6d-8b07-973d47df8881",
   "metadata": {},
   "source": [
    "#find the smallest element in selected and that elements interchange with the elements of the first position \n",
    "\n",
    "selection_sort(list)\n",
    "- size=len(list)\n",
    "- for i=0 to size-1, do\n",
    "-  min=list[i]\n",
    "-  posn=i\n",
    "-  for j=0 t size-1, do\n",
    "-  if list[j]<min,then\n",
    "-    min=list[j]\n",
    "-    posn=j\n",
    "if i!=posn:\n",
    " tem=list[i]\n",
    " list[i]=list[pons]\n",
    "list[pons]=temp"
   ]
  },
  {
   "cell_type": "code",
   "execution_count": 1,
   "id": "f080ff82-ea77-487a-84b1-f7dbcecffe3b",
   "metadata": {},
   "outputs": [
    {
     "name": "stdin",
     "output_type": "stream",
     "text": [
      "Enter number of Elements: 5\n",
      "Enter the Elements: 10\n",
      "Enter the Elements: 5\n",
      "Enter the Elements: 1\n",
      "Enter the Elements: 3\n",
      "Enter the Elements: 8\n"
     ]
    },
    {
     "name": "stdout",
     "output_type": "stream",
     "text": [
      "The sorted elements are:\n",
      "1 3 5 8 10 "
     ]
    }
   ],
   "source": [
    "def selection_sort(list):\n",
    "    size = len(list)\n",
    "    for i in range(size - 1):\n",
    "        min_index = i  # Initialize min_index to the current position\n",
    "        for j in range(i + 1, size):\n",
    "            if list[j] < list[min_index]: \n",
    "                min_index = j  # Update min_index if a smaller element is found\n",
    "\n",
    "        # Swap the found minimum element with the first element of the unsorted part\n",
    "        if min_index != i:\n",
    "            list[i], list[min_index] = list[min_index], list[i]\n",
    "\n",
    "n = int(input(\"Enter number of Elements:\"))\n",
    "l = []\n",
    "for i in range(n):\n",
    "    num = int(input(\"Enter the Elements:\"))\n",
    "    l.append(num)\n",
    "\n",
    "selection_sort(l)\n",
    "print(\"The sorted elements are:\")\n",
    "for i in range(n):\n",
    "    print(l[i], end=\" \")"
   ]
  },
  {
   "cell_type": "code",
   "execution_count": null,
   "id": "4e227ffb-e98a-4f3e-ab20-2fae34f15e33",
   "metadata": {},
   "outputs": [],
   "source": []
  }
 ],
 "metadata": {
  "kernelspec": {
   "display_name": "Python 3 (ipykernel)",
   "language": "python",
   "name": "python3"
  },
  "language_info": {
   "codemirror_mode": {
    "name": "ipython",
    "version": 3
   },
   "file_extension": ".py",
   "mimetype": "text/x-python",
   "name": "python",
   "nbconvert_exporter": "python",
   "pygments_lexer": "ipython3",
   "version": "3.12.7"
  }
 },
 "nbformat": 4,
 "nbformat_minor": 5
}
