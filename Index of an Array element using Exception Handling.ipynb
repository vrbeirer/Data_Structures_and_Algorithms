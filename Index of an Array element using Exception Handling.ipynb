{
 "cells": [
  {
   "cell_type": "code",
   "execution_count": 2,
   "id": "83a02a9f-3362-4502-87f6-19b92e015650",
   "metadata": {},
   "outputs": [
    {
     "name": "stdin",
     "output_type": "stream",
     "text": [
      "Enter the element to find:  20\n"
     ]
    },
    {
     "name": "stdout",
     "output_type": "stream",
     "text": [
      "1\n"
     ]
    }
   ],
   "source": [
    "import array as arr\n",
    "x = arr.array('i', [10, 20, 30, 60, 50])\n",
    "\n",
    "ele = int(input(\"Enter the element to find: \"))\n",
    "\n",
    "def e_index(x, ele):\n",
    "    n = len(x)\n",
    "    try:\n",
    "        for i in range(n):\n",
    "            if x[i] == ele: \n",
    "                return i\n",
    "        raise ValueError \n",
    "    except ValueError:\n",
    "        return -1  \n",
    "\n",
    "result = e_index(x, ele)\n",
    "print(result)\n"
   ]
  },
  {
   "cell_type": "code",
   "execution_count": 5,
   "id": "f41ea526-e65f-45f9-96d0-1489be76cd99",
   "metadata": {},
   "outputs": [
    {
     "name": "stdin",
     "output_type": "stream",
     "text": [
      "Enter the element to find:  20\n"
     ]
    },
    {
     "name": "stdout",
     "output_type": "stream",
     "text": [
      "1\n"
     ]
    }
   ],
   "source": [
    "#using Numpy\n",
    "import numpy as np\n",
    "x = np.array([10, 20, 30, 60, 50])\n",
    "\n",
    "ele = int(input(\"Enter the element to find: \"))\n",
    "\n",
    "def e_index(x, ele):\n",
    "    n = len(x)\n",
    "    try:\n",
    "        for i in range(n):\n",
    "            if x[i] == ele: \n",
    "                return i\n",
    "        raise ValueError \n",
    "    except ValueError:\n",
    "        return -1  \n",
    "\n",
    "result = e_index(x, ele)\n",
    "print(result)\n"
   ]
  },
  {
   "cell_type": "code",
   "execution_count": null,
   "id": "e33a085c-4cdd-423b-905d-b9bb38cc0505",
   "metadata": {},
   "outputs": [],
   "source": []
  }
 ],
 "metadata": {
  "kernelspec": {
   "display_name": "Python 3 (ipykernel)",
   "language": "python",
   "name": "python3"
  },
  "language_info": {
   "codemirror_mode": {
    "name": "ipython",
    "version": 3
   },
   "file_extension": ".py",
   "mimetype": "text/x-python",
   "name": "python",
   "nbconvert_exporter": "python",
   "pygments_lexer": "ipython3",
   "version": "3.12.7"
  }
 },
 "nbformat": 4,
 "nbformat_minor": 5
}
