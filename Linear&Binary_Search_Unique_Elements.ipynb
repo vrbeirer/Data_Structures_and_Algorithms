{
 "cells": [
  {
   "cell_type": "code",
   "execution_count": 1,
   "id": "e0de9895-ddac-4b30-9ec2-835dc41371ac",
   "metadata": {},
   "outputs": [
    {
     "name": "stdout",
     "output_type": "stream",
     "text": [
      "Unique element (Linear Search): 4\n",
      "Unique element (Binary Search): 4\n"
     ]
    }
   ],
   "source": [
    "# Linear Search Approach\n",
    "def linear_search(arr):\n",
    "    for i in range(0, len(arr), 2):\n",
    "        if i + 1 >= len(arr) or arr[i] != arr[i + 1]:\n",
    "            return arr[i]\n",
    "    return None\n",
    "\n",
    "# Binary Search Approach\n",
    "def binary_search(arr):\n",
    "    low, high = 0, len(arr) - 1\n",
    "    while low < high:\n",
    "        mid = (low + high) // 2\n",
    "        \n",
    "        # Ensure mid is always on the left of a pair\n",
    "        if mid % 2 == 1:\n",
    "            mid -= 1\n",
    "        \n",
    "        # Check if the pair is correct\n",
    "        if arr[mid] == arr[mid + 1]:\n",
    "            low = mid + 2  # Move to the right half\n",
    "        else:\n",
    "            high = mid  # The unique element is in the left half\n",
    "    \n",
    "    return arr[low]\n",
    "\n",
    "# Test the functions\n",
    "arr = [1, 1, 2, 2, 3, 3, 4, 5, 5]\n",
    "\n",
    "# Linear Search\n",
    "unique_linear = linear_search(arr)\n",
    "print(\"Unique element (Linear Search):\", unique_linear)\n",
    "\n",
    "# Binary Search\n",
    "unique_binary = binary_search(arr)\n",
    "print(\"Unique element (Binary Search):\", unique_binary)"
   ]
  },
  {
   "cell_type": "code",
   "execution_count": 1,
   "id": "19c36c95-fe99-42f4-a599-0ea030e74757",
   "metadata": {},
   "outputs": [
    {
     "name": "stdout",
     "output_type": "stream",
     "text": [
      "Unique element using Linear Search: 4\n",
      "Unique element using Binary Search: 4\n"
     ]
    }
   ],
   "source": [
    "def linear_search(arr):\n",
    "   \n",
    "    for i in range(0, len(arr), 2):\n",
    "        if i + 1 >= len(arr) or arr[i] != arr[i + 1]:\n",
    "            return arr[i]\n",
    "\n",
    "def binary_search(arr):\n",
    "   \n",
    "    low, high = 0, len(arr) - 1\n",
    "    \n",
    "    while low < high:\n",
    "        mid = low + (high - low) // 2\n",
    "        \n",
    "        # If mid is even and the element at mid is the same as the next one,\n",
    "        # or if mid is odd and the element at mid is the same as the previous one,\n",
    "        # then the unique element must be in the right half.\n",
    "        if (mid % 2 == 0 and arr[mid] == arr[mid + 1]) or (mid % 2 != 0 and arr[mid] == arr[mid - 1]):\n",
    "            low = mid + 1\n",
    "        else:\n",
    "            high = mid\n",
    "    \n",
    "    return arr[low]\n",
    "\n",
    "# Example usage\n",
    "arr = [1, 1, 2, 2, 3, 3, 4, 5, 5]\n",
    "\n",
    "unique_linear = linear_search(arr)\n",
    "unique_binary = binary_search(arr)\n",
    "\n",
    "print(f\"Unique element using Linear Search: {unique_linear}\")\n",
    "print(f\"Unique element using Binary Search: {unique_binary}\")\n"
   ]
  },
  {
   "cell_type": "code",
   "execution_count": null,
   "id": "e016592f-5cf8-4481-a30c-bfe8afa9b05b",
   "metadata": {},
   "outputs": [],
   "source": []
  }
 ],
 "metadata": {
  "kernelspec": {
   "display_name": "Python 3 (ipykernel)",
   "language": "python",
   "name": "python3"
  },
  "language_info": {
   "codemirror_mode": {
    "name": "ipython",
    "version": 3
   },
   "file_extension": ".py",
   "mimetype": "text/x-python",
   "name": "python",
   "nbconvert_exporter": "python",
   "pygments_lexer": "ipython3",
   "version": "3.12.7"
  }
 },
 "nbformat": 4,
 "nbformat_minor": 5
}
