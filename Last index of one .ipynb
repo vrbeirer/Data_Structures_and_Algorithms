{
 "cells": [
  {
   "cell_type": "code",
   "execution_count": 2,
   "id": "32e4a891-8195-4fda-8fe9-54c7d38b4694",
   "metadata": {},
   "outputs": [
    {
     "name": "stdout",
     "output_type": "stream",
     "text": [
      "6\n"
     ]
    }
   ],
   "source": [
    "def find_last_index_of_one(s):\n",
    "    index = -1  # Start from index 1\n",
    "    length = len(s)  # Get the length of the string\n",
    "    \n",
    "    for i in range(len(x)):  # If '1' is not in the string, return -1\n",
    "        print(-1)\n",
    "        return\n",
    "    \n",
    "    last_index = s.rfind('1')  # Get the last index of '1'\n",
    "    \n",
    "    print(last_index)  \n",
    "# Example usage\n",
    "s = \"0010101\"\n",
    "find_last_index_of_one(s)\n"
   ]
  },
  {
   "cell_type": "code",
   "execution_count": 1,
   "id": "5f0f4188-1539-46a4-90c5-a10e2a33fd22",
   "metadata": {},
   "outputs": [
    {
     "name": "stdout",
     "output_type": "stream",
     "text": [
      "[1, 1, 1, 1, 1, 1, 1, 1, 1, 1, 1, 0, 0, 0, 0, 0, 0]\n"
     ]
    }
   ],
   "source": [
    "x = [1,0,0,1,0,1,0,1,2,2,2,1,2,2,3,6,0,0,1,1,1,1,1,1]\n",
    "list1 = []\n",
    "count = 0\n",
    "\n",
    "for i in range(len(x)):\n",
    "    if x[i] == 1:\n",
    "        list1.append(x[i])\n",
    "    elif x[i] == 0:\n",
    "        count += 1\n",
    "\n",
    "res = list1 + [0] * count  \n",
    "print(res)"
   ]
  },
  {
   "cell_type": "code",
   "execution_count": 2,
   "id": "978c26a3-7bb0-432a-ba82-2dc65759eded",
   "metadata": {},
   "outputs": [
    {
     "name": "stdout",
     "output_type": "stream",
     "text": [
      "[1, 1, 1, 1, 1, 1, 1, 1, 0, 0, 0, 0, 0, 0, 0]\n"
     ]
    }
   ],
   "source": [
    "x = 1101010102010101\n",
    "list1 = []\n",
    "count = 0\n",
    "\n",
    "while x>0:\n",
    "    last_d = x%10\n",
    "    if last_d == 1:\n",
    "        list1.append(last_d)\n",
    "    elif last_d == 0:\n",
    "        count += 1\n",
    "    x //= 10\n",
    "\n",
    "res = list1 + [0] * count  \n",
    "print(res)"
   ]
  },
  {
   "cell_type": "code",
   "execution_count": null,
   "id": "efa32918-a8cb-4133-be30-ec4989b3b5a6",
   "metadata": {},
   "outputs": [],
   "source": []
  }
 ],
 "metadata": {
  "kernelspec": {
   "display_name": "Python 3 (ipykernel)",
   "language": "python",
   "name": "python3"
  },
  "language_info": {
   "codemirror_mode": {
    "name": "ipython",
    "version": 3
   },
   "file_extension": ".py",
   "mimetype": "text/x-python",
   "name": "python",
   "nbconvert_exporter": "python",
   "pygments_lexer": "ipython3",
   "version": "3.12.7"
  }
 },
 "nbformat": 4,
 "nbformat_minor": 5
}
