{
 "cells": [
  {
   "cell_type": "code",
   "execution_count": 4,
   "id": "f7ed3845-a7e3-4835-af48-0b1c78cc5448",
   "metadata": {},
   "outputs": [
    {
     "name": "stdout",
     "output_type": "stream",
     "text": [
      "Total Sales of Each Employee: [7000, 7900, 7500]\n",
      "Total Sales of Each Month: [3300, 6300, 5000, 7800]\n",
      "Total Sales of the Organization: 22400\n"
     ]
    }
   ],
   "source": [
    "# Sample data: rows represent employees, columns represent months\n",
    "sales_data = [\n",
    "    [1000, 2000, 1500, 2500],\n",
    "    [1200, 2200, 1800, 2700],\n",
    "    [1100, 2100, 1700, 2600]\n",
    "]\n",
    "\n",
    "# Total sales per employee\n",
    "employee_sales = []\n",
    "for row in sales_data:\n",
    "    total = 0\n",
    "    for value in row:\n",
    "        total += value\n",
    "    employee_sales.append(total)\n",
    "\n",
    "# Total sales per month\n",
    "monthly_sales = [0] * len(sales_data[0])\n",
    "for row in sales_data:\n",
    "    for j in range(len(row)):\n",
    "        monthly_sales[j] += row[j]\n",
    "\n",
    "# Total sales of the organization\n",
    "total_sales = 0\n",
    "for row in sales_data:\n",
    "    for value in row:\n",
    "        total_sales += value\n",
    "\n",
    "print(\"Total Sales of Each Employee:\", employee_sales)\n",
    "print(\"Total Sales of Each Month:\", monthly_sales)\n",
    "print(\"Total Sales of the Organization:\", total_sales)\n"
   ]
  }
 ],
 "metadata": {
  "kernelspec": {
   "display_name": "Python [conda env:base] *",
   "language": "python",
   "name": "conda-base-py"
  },
  "language_info": {
   "codemirror_mode": {
    "name": "ipython",
    "version": 3
   },
   "file_extension": ".py",
   "mimetype": "text/x-python",
   "name": "python",
   "nbconvert_exporter": "python",
   "pygments_lexer": "ipython3",
   "version": "3.12.7"
  }
 },
 "nbformat": 4,
 "nbformat_minor": 5
}
