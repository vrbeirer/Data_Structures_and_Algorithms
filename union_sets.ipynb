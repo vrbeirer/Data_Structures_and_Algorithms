{
 "cells": [
  {
   "cell_type": "code",
   "execution_count": 1,
   "metadata": {},
   "outputs": [
    {
     "name": "stdin",
     "output_type": "stream",
     "text": [
      "Enter number of elements in first set:  2\n",
      " 1\n",
      " 2\n",
      "Enter number of elements in second set:  1\n",
      " 4\n"
     ]
    },
    {
     "name": "stdout",
     "output_type": "stream",
     "text": [
      "Union of sets: {1, 2, 4}\n"
     ]
    }
   ],
   "source": [
    "N1 = int(input(\"Enter number of elements in first set: \"))\n",
    "set1 = {int(input()) for _ in range(N1)}  \n",
    "N2 = int(input(\"Enter number of elements in second set: \"))\n",
    "set2 = {int(input()) for _ in range(N2)}  \n",
    "union_set = set1 | set2\n",
    "print(\"Union of sets:\", union_set)"
   ]
  },
  {
   "cell_type": "code",
   "execution_count": null,
   "metadata": {},
   "outputs": [],
   "source": []
  }
 ],
 "metadata": {
  "kernelspec": {
   "display_name": "Python 3 (ipykernel)",
   "language": "python",
   "name": "python3"
  },
  "language_info": {
   "codemirror_mode": {
    "name": "ipython",
    "version": 3
   },
   "file_extension": ".py",
   "mimetype": "text/x-python",
   "name": "python",
   "nbconvert_exporter": "python",
   "pygments_lexer": "ipython3",
   "version": "3.12.4"
  }
 },
 "nbformat": 4,
 "nbformat_minor": 4
}
