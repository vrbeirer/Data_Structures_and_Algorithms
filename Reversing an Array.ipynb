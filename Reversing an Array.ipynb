{
 "cells": [
  {
   "cell_type": "code",
   "execution_count": 2,
   "id": "d973bdeb-b983-48ab-bab4-b08ff0f927c1",
   "metadata": {},
   "outputs": [
    {
     "name": "stdout",
     "output_type": "stream",
     "text": [
      "<class 'numpy.ndarray'>\n",
      "[5 4 8 7 2 5 3]\n"
     ]
    }
   ],
   "source": [
    "#Slicing Method\n",
    "import numpy as np\n",
    "x= np.array([3,5,2,7,8,4,5])\n",
    "print(type(x))\n",
    "print(x[::-1])"
   ]
  },
  {
   "cell_type": "code",
   "execution_count": 12,
   "id": "41924138-4232-41f0-a262-b18bdaebaa11",
   "metadata": {},
   "outputs": [
    {
     "name": "stdout",
     "output_type": "stream",
     "text": [
      "<class 'numpy.ndarray'>\n",
      "10\n",
      "9\n",
      "8\n",
      "7\n",
      "6\n",
      "5\n",
      "4\n",
      "3\n",
      "2\n",
      "1\n"
     ]
    }
   ],
   "source": [
    "#Using Looping\n",
    "x= np.array([1,2,3,4,5,6,7,8,9,10])\n",
    "print(type(x))\n",
    "n=len(x)\n",
    "for i in range(n-1,-1,-1):\n",
    "    print(x[i])"
   ]
  },
  {
   "cell_type": "code",
   "execution_count": 2,
   "id": "1d414562-362b-4a06-a354-009557103cf0",
   "metadata": {},
   "outputs": [
    {
     "name": "stdout",
     "output_type": "stream",
     "text": [
      "<class 'numpy.ndarray'>\n",
      "[10, 9, 8, 7, 6, 5, 4, 3, 2, 1]\n"
     ]
    }
   ],
   "source": [
    "x= np.array([1,2,3,4,5,6,7,8,9,10])\n",
    "print(type(x))\n",
    "n=len(x)\n",
    "new_arr=[]\n",
    "for i in range(n-1,-1,-1):\n",
    "    new_arr.append(x[i])\n",
    "print(new_arr)"
   ]
  },
  {
   "cell_type": "code",
   "execution_count": 1,
   "id": "458b8062-1ffe-4628-aa86-26b6f862903d",
   "metadata": {},
   "outputs": [
    {
     "name": "stdout",
     "output_type": "stream",
     "text": [
      "<class 'numpy.ndarray'>\n",
      "[5, 4, 3, 2, 1]\n"
     ]
    }
   ],
   "source": [
    "import numpy as np\n",
    "\n",
    "try:\n",
    "    x = np.array([1, 2, 3, 4, 5])\n",
    "    print(type(x)) \n",
    "\n",
    "    n = len(x)\n",
    "    new_arr = []\n",
    "\n",
    "    for i in range(n - 1, -1, -1):\n",
    "        new_arr.append(x[i])\n",
    "\n",
    "    print(new_arr)\n",
    "\n",
    "except Exception as e:\n",
    "    print(f\"An error occurred: {e}\")\n"
   ]
  },
  {
   "cell_type": "code",
   "execution_count": null,
   "id": "4e45d14a-b9e0-4081-9a24-f10ad5cf412e",
   "metadata": {},
   "outputs": [],
   "source": []
  }
 ],
 "metadata": {
  "kernelspec": {
   "display_name": "Python 3 (ipykernel)",
   "language": "python",
   "name": "python3"
  },
  "language_info": {
   "codemirror_mode": {
    "name": "ipython",
    "version": 3
   },
   "file_extension": ".py",
   "mimetype": "text/x-python",
   "name": "python",
   "nbconvert_exporter": "python",
   "pygments_lexer": "ipython3",
   "version": "3.12.7"
  }
 },
 "nbformat": 4,
 "nbformat_minor": 5
}
