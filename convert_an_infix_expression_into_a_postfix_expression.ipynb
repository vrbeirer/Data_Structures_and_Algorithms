{
 "cells": [
  {
   "cell_type": "code",
   "execution_count": 1,
   "metadata": {
    "colab": {
     "base_uri": "https://localhost:8080/"
    },
    "id": "xaIYpozXSWoe",
    "outputId": "8a12e347-e1ba-4799-f036-1dd6f58faf14"
   },
   "outputs": [
    {
     "name": "stdin",
     "output_type": "stream",
     "text": [
      "Enter an infix expression: A+(B-C*D)/E\n"
     ]
    },
    {
     "name": "stdout",
     "output_type": "stream",
     "text": [
      "The equivalent postfix expression is:\n",
      " ABCD*-E/+\n"
     ]
    }
   ],
   "source": [
    "class StackNode:\n",
    "  def __init__(self,NewData,link):\n",
    "    self.data=NewData\n",
    "    self.next=link\n",
    "\n",
    "class Stack:\n",
    "  def __init__(self):\n",
    "    self.top=None\n",
    "  def isempty(self):\n",
    "    return self.top is None\n",
    "  def peek(self):\n",
    "    return self.top.data\n",
    "  def pop(self):\n",
    "    node=self.top\n",
    "    self.top=self.top.next\n",
    "    return node.data\n",
    "  def push(self,NewData):\n",
    "    self.top=StackNode(NewData,self.top)\n",
    "\n",
    "def infix_to_postfix(source):\n",
    "  target=\" \"\n",
    "  st=Stack()\n",
    "  for ch in source:\n",
    "    if ch=='(':\n",
    "      st.push(ch)\n",
    "    elif ch==')':\n",
    "      while (not st.isempty() and st.peek()!='('):\n",
    "        target+=st.pop()\n",
    "      st.pop()\n",
    "    elif ch.isdigit() or ch.isalpha():\n",
    "      target+=ch\n",
    "    elif ch=='+' or ch=='-' or ch=='*' or ch=='/' or ch=='%':\n",
    "      while (not st.isempty() and st.peek()!='(' and getPriority(st.peek())>= getPriority(ch)):\n",
    "        target+=st.pop()\n",
    "      st.push(ch)\n",
    "  while(not st.isempty()):\n",
    "    target+=st.pop()\n",
    "  return target\n",
    "\n",
    "def getPriority(opr):\n",
    "  if (opr=='*' or opr=='/' or opr=='%'):\n",
    "    return 1\n",
    "  else:\n",
    "    return 0\n",
    "\n",
    "infix_exp = input(\"Enter an infix expression:\")\n",
    "postfix = infix_to_postfix(infix_exp)\n",
    "print(\"The equivalent postfix expression is:\")\n",
    "print(postfix)"
   ]
  },
  {
   "cell_type": "code",
   "execution_count": null,
   "metadata": {},
   "outputs": [],
   "source": []
  }
 ],
 "metadata": {
  "colab": {
   "provenance": []
  },
  "kernelspec": {
   "display_name": "Python 3 (ipykernel)",
   "language": "python",
   "name": "python3"
  },
  "language_info": {
   "codemirror_mode": {
    "name": "ipython",
    "version": 3
   },
   "file_extension": ".py",
   "mimetype": "text/x-python",
   "name": "python",
   "nbconvert_exporter": "python",
   "pygments_lexer": "ipython3",
   "version": "3.12.7"
  }
 },
 "nbformat": 4,
 "nbformat_minor": 4
}
