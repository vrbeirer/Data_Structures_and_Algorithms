{
 "cells": [
  {
   "cell_type": "code",
   "execution_count": 2,
   "id": "3fdc05e8-9c48-4210-b86c-a88b5d315c5c",
   "metadata": {},
   "outputs": [
    {
     "name": "stdin",
     "output_type": "stream",
     "text": [
      "Enter the number of elements:  3\n",
      "Enter the elements:  10\n",
      "Enter the elements:  20\n",
      "Enter the elements:  30\n",
      "Enter the element to search for:  20\n"
     ]
    },
    {
     "name": "stdout",
     "output_type": "stream",
     "text": [
      "20 element found at position 1\n"
     ]
    }
   ],
   "source": [
    "def binary_search(lst, key):\n",
    "    low = 0\n",
    "    high = len(lst) - 1  # Fix the index to be len(lst) - 1 instead of len(lst(n-1))\n",
    "\n",
    "    while low <= high:\n",
    "        mid = (low + high) // 2  # Use integer division (//)\n",
    "\n",
    "        if lst[mid] == key:\n",
    "            return mid  # Return the index of the key\n",
    "        elif key < lst[mid]:\n",
    "            high = mid - 1  # Move the high pointer to mid - 1\n",
    "        else:\n",
    "            low = mid + 1  # Move the low pointer to mid + 1\n",
    "\n",
    "    return -1  # Return -1 if the key is not found\n",
    "    \n",
    "n = int(input(\"Enter the number of elements: \"))\n",
    "lst = []\n",
    "for i in range(n):\n",
    "    num = int(input(\"Enter the elements: \"))\n",
    "    lst.append(num)\n",
    "\n",
    "key = int(input(\"Enter the element to search for: \"))\n",
    "position = linear_search(lst, key)\n",
    "\n",
    "if position == -1:\n",
    "    print(\"Element is not found\")\n",
    "else:\n",
    "    print(\"{} element found at position {}\".format(key, position))\n"
   ]
  },
  {
   "cell_type": "code",
   "execution_count": null,
   "id": "dbe92cd4-35f6-41db-9d35-5c575518c306",
   "metadata": {},
   "outputs": [],
   "source": []
  }
 ],
 "metadata": {
  "kernelspec": {
   "display_name": "Python 3 (ipykernel)",
   "language": "python",
   "name": "python3"
  },
  "language_info": {
   "codemirror_mode": {
    "name": "ipython",
    "version": 3
   },
   "file_extension": ".py",
   "mimetype": "text/x-python",
   "name": "python",
   "nbconvert_exporter": "python",
   "pygments_lexer": "ipython3",
   "version": "3.12.7"
  }
 },
 "nbformat": 4,
 "nbformat_minor": 5
}
