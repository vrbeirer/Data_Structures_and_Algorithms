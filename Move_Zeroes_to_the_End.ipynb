{
 "cells": [
  {
   "cell_type": "code",
   "execution_count": 1,
   "id": "98d813de-6447-4eaa-9430-a3dd2d97b7c8",
   "metadata": {},
   "outputs": [
    {
     "name": "stdout",
     "output_type": "stream",
     "text": [
      "[1, 3, 12, 0, 0]\n"
     ]
    }
   ],
   "source": [
    "def move_zeroes(arr):\n",
    "    non_zero_index = 0\n",
    "    for i in range(len(arr)):\n",
    "        if arr[i] != 0:\n",
    "            arr[i], arr[non_zero_index] = arr[non_zero_index], arr[i]\n",
    "            non_zero_index += 1\n",
    "    return arr\n",
    "\n",
    "# Test\n",
    "arr = [0, 1, 0, 3, 12]\n",
    "print(move_zeroes(arr))  "
   ]
  },
  {
   "cell_type": "code",
   "execution_count": null,
   "id": "2f10efef-34d7-4713-b73a-a79302d0f582",
   "metadata": {},
   "outputs": [],
   "source": []
  }
 ],
 "metadata": {
  "kernelspec": {
   "display_name": "Python 3 (ipykernel)",
   "language": "python",
   "name": "python3"
  },
  "language_info": {
   "codemirror_mode": {
    "name": "ipython",
    "version": 3
   },
   "file_extension": ".py",
   "mimetype": "text/x-python",
   "name": "python",
   "nbconvert_exporter": "python",
   "pygments_lexer": "ipython3",
   "version": "3.12.7"
  }
 },
 "nbformat": 4,
 "nbformat_minor": 5
}
