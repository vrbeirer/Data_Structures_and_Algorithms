{
 "cells": [
  {
   "cell_type": "code",
   "execution_count": 2,
   "id": "0ec052d9-3f81-4679-877a-af026c2b58b3",
   "metadata": {},
   "outputs": [
    {
     "name": "stdout",
     "output_type": "stream",
     "text": [
      "Intersection (List Method): [4, 5]\n",
      "Intersection (Set Method): [4, 5]\n"
     ]
    }
   ],
   "source": [
    "def intersection_list_method(arr1, arr2):\n",
    "    result = []\n",
    "    for x in arr1:\n",
    "        if x in arr2:\n",
    "            result.append(x)\n",
    "    return result\n",
    "\n",
    "def intersection_set_method(arr1, arr2):\n",
    "    set1 = set(arr1)\n",
    "    set2 = set(arr2)\n",
    "    intersection = set1 & set2  # Finding common elements\n",
    "    return list(intersection)\n",
    "\n",
    "# Example usage:\n",
    "arr1 = [1, 2, 3, 4, 5]\n",
    "arr2 = [4, 5, 6, 7, 8]\n",
    "\n",
    "print(\"Intersection (List Method):\", intersection_list_method(arr1, arr2))\n",
    "print(\"Intersection (Set Method):\", intersection_set_method(arr1, arr2))\n"
   ]
  },
  {
   "cell_type": "code",
   "execution_count": 3,
   "id": "2e8a2e5a-1907-4ca6-a42c-7b2aae5eb5ba",
   "metadata": {},
   "outputs": [
    {
     "name": "stdout",
     "output_type": "stream",
     "text": [
      "Intersection (List Method): [4, 5]\n",
      "Intersection (No Set/List Method): [4, 5]\n"
     ]
    }
   ],
   "source": [
    "def intersection_list_method(arr1, arr2):\n",
    "    result = []\n",
    "    for x in arr1:\n",
    "        if x in arr2 and x not in result:  # Avoid duplicates\n",
    "            result.append(x)\n",
    "    return result\n",
    "\n",
    "def intersection_no_set_list(arr1, arr2):\n",
    "    result = []\n",
    "    for i in range(len(arr1)):\n",
    "        for j in range(len(arr2)):\n",
    "            if arr1[i] == arr2[j] and arr1[i] not in result:  # Check if elements match and avoid duplicates\n",
    "                result.append(arr1[i])\n",
    "    return result\n",
    "\n",
    "# Example usage:\n",
    "arr1 = [1, 2, 3, 4, 5, 5]\n",
    "arr2 = [4, 5, 6, 7, 8, 5]\n",
    "\n",
    "print(\"Intersection (List Method):\", intersection_list_method(arr1, arr2))\n",
    "print(\"Intersection (No Set/List Method):\", intersection_no_set_list(arr1, arr2))\n"
   ]
  },
  {
   "cell_type": "code",
   "execution_count": null,
   "id": "5830b479-8018-4c3b-891a-3adfad51b1b0",
   "metadata": {},
   "outputs": [],
   "source": []
  }
 ],
 "metadata": {
  "kernelspec": {
   "display_name": "Python 3 (ipykernel)",
   "language": "python",
   "name": "python3"
  },
  "language_info": {
   "codemirror_mode": {
    "name": "ipython",
    "version": 3
   },
   "file_extension": ".py",
   "mimetype": "text/x-python",
   "name": "python",
   "nbconvert_exporter": "python",
   "pygments_lexer": "ipython3",
   "version": "3.12.7"
  }
 },
 "nbformat": 4,
 "nbformat_minor": 5
}
