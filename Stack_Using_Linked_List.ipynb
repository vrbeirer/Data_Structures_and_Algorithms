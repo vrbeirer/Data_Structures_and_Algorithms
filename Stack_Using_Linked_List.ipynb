{
 "cells": [
  {
   "cell_type": "code",
   "execution_count": 13,
   "id": "8706e1dd-0f68-4e29-8aa7-a92dbd312fe9",
   "metadata": {},
   "outputs": [
    {
     "name": "stdout",
     "output_type": "stream",
     "text": [
      "\n",
      "Program to implement stack using linked list\n",
      "1. Push\n",
      "2. Pop\n",
      "3. Peek\n",
      "4. Display\n",
      "5. Exit\n"
     ]
    },
    {
     "name": "stdin",
     "output_type": "stream",
     "text": [
      "Enter your choice:  1\n",
      "Enter the data to push:  100\n"
     ]
    },
    {
     "name": "stdout",
     "output_type": "stream",
     "text": [
      "\n",
      "Program to implement stack using linked list\n",
      "1. Push\n",
      "2. Pop\n",
      "3. Peek\n",
      "4. Display\n",
      "5. Exit\n"
     ]
    },
    {
     "name": "stdin",
     "output_type": "stream",
     "text": [
      "Enter your choice:  1\n",
      "Enter the data to push:  50\n"
     ]
    },
    {
     "name": "stdout",
     "output_type": "stream",
     "text": [
      "\n",
      "Program to implement stack using linked list\n",
      "1. Push\n",
      "2. Pop\n",
      "3. Peek\n",
      "4. Display\n",
      "5. Exit\n"
     ]
    },
    {
     "name": "stdin",
     "output_type": "stream",
     "text": [
      "Enter your choice:  1\n",
      "Enter the data to push:  30\n"
     ]
    },
    {
     "name": "stdout",
     "output_type": "stream",
     "text": [
      "\n",
      "Program to implement stack using linked list\n",
      "1. Push\n",
      "2. Pop\n",
      "3. Peek\n",
      "4. Display\n",
      "5. Exit\n"
     ]
    },
    {
     "name": "stdin",
     "output_type": "stream",
     "text": [
      "Enter your choice:  1\n",
      "Enter the data to push:  10\n"
     ]
    },
    {
     "name": "stdout",
     "output_type": "stream",
     "text": [
      "\n",
      "Program to implement stack using linked list\n",
      "1. Push\n",
      "2. Pop\n",
      "3. Peek\n",
      "4. Display\n",
      "5. Exit\n"
     ]
    },
    {
     "name": "stdin",
     "output_type": "stream",
     "text": [
      "Enter your choice:  4\n"
     ]
    },
    {
     "name": "stdout",
     "output_type": "stream",
     "text": [
      "Stack elements:\n",
      "10\n",
      "30\n",
      "50\n",
      "100\n",
      "\n",
      "Program to implement stack using linked list\n",
      "1. Push\n",
      "2. Pop\n",
      "3. Peek\n",
      "4. Display\n",
      "5. Exit\n"
     ]
    },
    {
     "name": "stdin",
     "output_type": "stream",
     "text": [
      "Enter your choice:  3\n"
     ]
    },
    {
     "name": "stdout",
     "output_type": "stream",
     "text": [
      "The top element: 10\n",
      "\n",
      "Program to implement stack using linked list\n",
      "1. Push\n",
      "2. Pop\n",
      "3. Peek\n",
      "4. Display\n",
      "5. Exit\n"
     ]
    },
    {
     "name": "stdin",
     "output_type": "stream",
     "text": [
      "Enter your choice:  5\n"
     ]
    },
    {
     "name": "stdout",
     "output_type": "stream",
     "text": [
      "\n",
      "Quitting the program.\n"
     ]
    }
   ],
   "source": [
    "class StackNode:\n",
    "    def __init__(self, NewData, link):\n",
    "        self.data = NewData\n",
    "        self.next = link\n",
    "\n",
    "class Stack:\n",
    "    def __init__(self):\n",
    "        self.top = None\n",
    "\n",
    "    def isempty(self):\n",
    "        return self.top is None\n",
    "\n",
    "    def peek(self):\n",
    "        if self.isempty():\n",
    "            print(\"Stack is empty\")\n",
    "            return None\n",
    "        return self.top.data\n",
    "\n",
    "    def pop(self):\n",
    "        if self.isempty():\n",
    "            print(\"Stack underflow\")\n",
    "            return None\n",
    "        node = self.top\n",
    "        self.top = self.top.next\n",
    "        return node.data\n",
    "\n",
    "    def push(self, NewData):\n",
    "        self.top = StackNode(NewData, self.top)\n",
    "\n",
    "    def display(self):\n",
    "        curNode = self.top\n",
    "        while curNode is not None:\n",
    "            print(curNode.data)\n",
    "            curNode = curNode.next\n",
    "\n",
    "# Main program to interact with the stack\n",
    "s = Stack()\n",
    "\n",
    "while True:\n",
    "    print(\"\\nProgram to implement stack using linked list\")\n",
    "    print(\"1. Push\")\n",
    "    print(\"2. Pop\")\n",
    "    print(\"3. Peek\")\n",
    "    print(\"4. Display\")\n",
    "    print(\"5. Exit\")\n",
    "    \n",
    "    try:\n",
    "        choice = int(input(\"Enter your choice: \"))\n",
    "    except ValueError:\n",
    "        print(\"Invalid input! Please enter a number.\")\n",
    "        continue\n",
    "    \n",
    "    if choice == 1:\n",
    "        num = int(input(\"Enter the data to push: \"))\n",
    "        s.push(num)\n",
    "    elif choice == 2:\n",
    "        num = s.pop()\n",
    "        if num is not None:\n",
    "            print(\"The popped element:\", num)\n",
    "    elif choice == 3:\n",
    "        num = s.peek()\n",
    "        if num is not None:\n",
    "            print(\"The top element:\", num)\n",
    "    elif choice == 4:\n",
    "        if s.isempty():\n",
    "            print(\"Stack is empty\")\n",
    "        else:\n",
    "            print(\"Stack elements:\")\n",
    "            s.display()\n",
    "    elif choice == 5:\n",
    "        print(\"\\nQuitting the program.\")\n",
    "        break\n",
    "    else:\n",
    "        print(\"Invalid choice! Please enter a valid option.\")\n",
    "        continue\n"
   ]
  }
 ],
 "metadata": {
  "kernelspec": {
   "display_name": "Python 3 (ipykernel)",
   "language": "python",
   "name": "python3"
  },
  "language_info": {
   "codemirror_mode": {
    "name": "ipython",
    "version": 3
   },
   "file_extension": ".py",
   "mimetype": "text/x-python",
   "name": "python",
   "nbconvert_exporter": "python",
   "pygments_lexer": "ipython3",
   "version": "3.12.7"
  }
 },
 "nbformat": 4,
 "nbformat_minor": 5
}
