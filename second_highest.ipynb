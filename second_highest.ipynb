{
 "cells": [
  {
   "cell_type": "code",
   "execution_count": 5,
   "metadata": {},
   "outputs": [
    {
     "name": "stdin",
     "output_type": "stream",
     "text": [
      "Enter number of elements:  5\n",
      " 1\n",
      " 5\n",
      " 12\n",
      " 54\n",
      " 5\n"
     ]
    },
    {
     "name": "stdout",
     "output_type": "stream",
     "text": [
      "Second highest element: 12\n"
     ]
    }
   ],
   "source": [
    "N = int(input(\"Enter number of elements: \"))\n",
    "arr = [int(input()) for _ in range(N)]\n",
    "\n",
    "# Initialize highest and second highest\n",
    "highest = second_highest = float('-inf')\n",
    "\n",
    "# Find highest and second highest elements\n",
    "for num in arr:\n",
    "    if num > highest:\n",
    "        second_highest, highest = highest, num  # Update both\n",
    "    elif num > second_highest and num != highest:\n",
    "        second_highest = num  # Update second highest\n",
    "\n",
    "# Handle case when second highest doesn't exist\n",
    "if second_highest == float('-inf'):\n",
    "    print(\"No second highest element found.\")\n",
    "else:\n",
    "    print(\"Second highest element:\", second_highest)"
   ]
  },
  {
   "cell_type": "code",
   "execution_count": null,
   "metadata": {},
   "outputs": [],
   "source": []
  }
 ],
 "metadata": {
  "kernelspec": {
   "display_name": "Python 3 (ipykernel)",
   "language": "python",
   "name": "python3"
  },
  "language_info": {
   "codemirror_mode": {
    "name": "ipython",
    "version": 3
   },
   "file_extension": ".py",
   "mimetype": "text/x-python",
   "name": "python",
   "nbconvert_exporter": "python",
   "pygments_lexer": "ipython3",
   "version": "3.12.4"
  }
 },
 "nbformat": 4,
 "nbformat_minor": 4
}
