{
 "cells": [
  {
   "cell_type": "code",
   "execution_count": null,
   "id": "8287cf33-5eff-411b-be9c-d815ed8474a0",
   "metadata": {},
   "outputs": [],
   "source": [
    "#x[m][n]\n",
    "#where\n",
    "#x-->array name \n",
    "#m---row\n",
    "#n---column"
   ]
  },
  {
   "cell_type": "code",
   "execution_count": 9,
   "id": "b88b3262-b6c8-4ef6-93c0-6f029ebcd415",
   "metadata": {},
   "outputs": [
    {
     "name": "stdout",
     "output_type": "stream",
     "text": [
      "[[10 20 30]\n",
      " [40 50 60]\n",
      " [70 80 90]]\n"
     ]
    },
    {
     "data": {
      "text/plain": [
       "numpy.ndarray"
      ]
     },
     "execution_count": 9,
     "metadata": {},
     "output_type": "execute_result"
    }
   ],
   "source": [
    "import numpy as np\n",
    "x=np.array([\n",
    "    [10,20,30],\n",
    "    [40,50,60],\n",
    "    [70,80,90]])\n",
    "print(x)\n",
    "type(x)"
   ]
  },
  {
   "cell_type": "code",
   "execution_count": 12,
   "id": "b07c86b8-2f9d-4ae7-94e6-42e07022dea9",
   "metadata": {},
   "outputs": [
    {
     "name": "stdout",
     "output_type": "stream",
     "text": [
      "[[10.+0.j 20.+0.j 30.+0.j]\n",
      " [40.+0.j 50.+0.j 60.+0.j]\n",
      " [70.+0.j 80.+0.j 90.+0.j]]\n"
     ]
    }
   ],
   "source": [
    "import numpy as np\n",
    "x=np.array([\n",
    "    [10,20,30],\n",
    "    [40,50,60],\n",
    "    [70,80,90]],dtype=complex)\n",
    "print(x)"
   ]
  },
  {
   "cell_type": "code",
   "execution_count": 14,
   "id": "92f3b06d-8d81-4379-aa90-bdb68f697065",
   "metadata": {},
   "outputs": [
    {
     "data": {
      "text/plain": [
       "array([[0., 0., 0.],\n",
       "       [0., 0., 0.]])"
      ]
     },
     "execution_count": 14,
     "metadata": {},
     "output_type": "execute_result"
    }
   ],
   "source": [
    "#zero() and Ones\n",
    "y=np.zeros((2,3))\n",
    "y"
   ]
  },
  {
   "cell_type": "code",
   "execution_count": 15,
   "id": "89a92575-cb82-41c4-82a3-c6f4ec9567e6",
   "metadata": {},
   "outputs": [
    {
     "data": {
      "text/plain": [
       "array([[1., 1.],\n",
       "       [1., 1.],\n",
       "       [1., 1.]])"
      ]
     },
     "execution_count": 15,
     "metadata": {},
     "output_type": "execute_result"
    }
   ],
   "source": [
    "y=np.ones((3,2))\n",
    "y"
   ]
  },
  {
   "cell_type": "code",
   "execution_count": 20,
   "id": "ed3cac63-1e8a-48a7-8ad8-8ac34abb6cfe",
   "metadata": {},
   "outputs": [
    {
     "name": "stdout",
     "output_type": "stream",
     "text": [
      "[[(1, 1.) (1, 1.) (1, 1.)]\n",
      " [(1, 1.) (1, 1.) (1, 1.)]\n",
      " [(1, 1.) (1, 1.) (1, 1.)]]\n"
     ]
    }
   ],
   "source": [
    "z= np.ones((3,3),dtype=[('m','int'),('n','float')])\n",
    "print(z)"
   ]
  },
  {
   "cell_type": "code",
   "execution_count": 22,
   "id": "842a77ba-5862-41de-b28d-55fddfe668c7",
   "metadata": {},
   "outputs": [
    {
     "name": "stdout",
     "output_type": "stream",
     "text": [
      "10 20 30 \n",
      "40 50 60 \n",
      "70 80 90 \n"
     ]
    }
   ],
   "source": [
    "import numpy as np\n",
    "x=np.array([\n",
    "    [10,20,30],\n",
    "    [40,50,60],\n",
    "    [70,80,90]])\n",
    "#print(x)\n",
    "for i in x: #this is for traverse use nestedloop\n",
    "    for j in i:\n",
    "        print(j,end=\" \")\n",
    "    print() #for new line\n"
   ]
  },
  {
   "cell_type": "code",
   "execution_count": 26,
   "id": "721e97da-f765-4111-9a9e-22c49557a98b",
   "metadata": {},
   "outputs": [
    {
     "name": "stdout",
     "output_type": "stream",
     "text": [
      "row 0: [10 20 30]\n",
      "row 0: [40 50 60]\n"
     ]
    }
   ],
   "source": [
    "import numpy as np\n",
    "x=np.array([\n",
    "    [10,20,30],\n",
    "    [40,50,60],\n",
    "    [70,80,90]])\n",
    "print(\"row 0:\",x[0])\n",
    "print(\"row 0:\",x[1])"
   ]
  },
  {
   "cell_type": "code",
   "execution_count": 27,
   "id": "d39dadfb-8484-4ffe-bd31-6a77ea56b3dc",
   "metadata": {},
   "outputs": [
    {
     "name": "stdout",
     "output_type": "stream",
     "text": [
      "[[10 20 30]\n",
      " [40 50 60]]\n"
     ]
    }
   ],
   "source": [
    "print(x[0:2])"
   ]
  },
  {
   "cell_type": "code",
   "execution_count": 29,
   "id": "9969233d-024f-4fc1-84e6-0f3b74dedca4",
   "metadata": {},
   "outputs": [
    {
     "name": "stdout",
     "output_type": "stream",
     "text": [
      "[[40 50 60]\n",
      " [70 80 90]]\n"
     ]
    }
   ],
   "source": [
    "print(x[1:])"
   ]
  },
  {
   "cell_type": "code",
   "execution_count": 30,
   "id": "f012842e-adcb-468d-a143-7f9a8b9238a2",
   "metadata": {},
   "outputs": [
    {
     "name": "stdout",
     "output_type": "stream",
     "text": [
      "[[70 80 90]\n",
      " [40 50 60]\n",
      " [10 20 30]]\n"
     ]
    }
   ],
   "source": [
    "print(x[::-1])"
   ]
  },
  {
   "cell_type": "code",
   "execution_count": 31,
   "id": "084f3ec0-711f-4ccd-b816-ce4fc782bcb7",
   "metadata": {},
   "outputs": [
    {
     "name": "stdout",
     "output_type": "stream",
     "text": [
      "[10 40 70]\n"
     ]
    }
   ],
   "source": [
    "#column tasks\n",
    "print(x[: , 0])"
   ]
  },
  {
   "cell_type": "code",
   "execution_count": 48,
   "id": "5b7beaa4-0792-4aef-914c-f2e2e0b4ae0e",
   "metadata": {},
   "outputs": [
    {
     "name": "stdout",
     "output_type": "stream",
     "text": [
      "[[10 20 30]\n",
      " [40 50 60]]\n",
      "[[70 80 90]\n",
      " [40 50 60]]\n"
     ]
    }
   ],
   "source": [
    "print(x[0:2])\n",
    "print(x[:0:-1])  #task"
   ]
  },
  {
   "cell_type": "code",
   "execution_count": 49,
   "id": "5f734999-633b-4e99-8768-79f6ffcff966",
   "metadata": {},
   "outputs": [
    {
     "name": "stdout",
     "output_type": "stream",
     "text": [
      "[10 40 70]\n"
     ]
    }
   ],
   "source": [
    "print(x[: , 0])"
   ]
  },
  {
   "cell_type": "code",
   "execution_count": 52,
   "id": "d57555ed-f460-4861-a724-32fb78149d1b",
   "metadata": {},
   "outputs": [
    {
     "name": "stdout",
     "output_type": "stream",
     "text": [
      "column 0: [10 40 70]\n",
      "column 1: [20 50 80]\n",
      "column 2: [30 60 90]\n"
     ]
    }
   ],
   "source": [
    "#Colunm representation\n",
    "print(\"column 0:\",x[:, 0])\n",
    "print(\"column 1:\",x[:, 1])\n",
    "print(\"column 2:\",x[:, 2])"
   ]
  },
  {
   "cell_type": "code",
   "execution_count": 4,
   "id": "ad0e7e51-86b9-42bd-a8f2-181bbabf24ae",
   "metadata": {},
   "outputs": [
    {
     "name": "stdout",
     "output_type": "stream",
     "text": [
      "[[11, 22, 33], [44, 55, 66], [77, 88, 99]]\n"
     ]
    }
   ],
   "source": [
    "import numpy as np\n",
    "arr1=np.array([[1,2,3],[4,5,6],[7,8,9]])\n",
    "arr2=np.array([[10,20,30],[40,50,60],[70,80,90]])\n",
    "result=[]\n",
    "for i in range(len(arr1)):\n",
    "    row=[]\n",
    "    for j in range(len(arr1[0])):\n",
    "         row.append(arr1[i,j]+arr2[i,j])\n",
    "    result.append(row)\n",
    "print(result)"
   ]
  },
  {
   "cell_type": "code",
   "execution_count": null,
   "id": "a972a73b-22b8-4418-ac16-d1a5cbcbb51c",
   "metadata": {},
   "outputs": [],
   "source": []
  }
 ],
 "metadata": {
  "kernelspec": {
   "display_name": "Python 3 (ipykernel)",
   "language": "python",
   "name": "python3"
  },
  "language_info": {
   "codemirror_mode": {
    "name": "ipython",
    "version": 3
   },
   "file_extension": ".py",
   "mimetype": "text/x-python",
   "name": "python",
   "nbconvert_exporter": "python",
   "pygments_lexer": "ipython3",
   "version": "3.12.7"
  }
 },
 "nbformat": 4,
 "nbformat_minor": 5
}
