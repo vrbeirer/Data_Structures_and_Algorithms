{
 "cells": [
  {
   "cell_type": "code",
   "execution_count": null,
   "id": "97b0a14a-f4b7-49f0-86a9-4c32bd3c10e3",
   "metadata": {},
   "outputs": [],
   "source": [
    "def set_zeroes(matrix):\n",
    "    m = len(matrix)     # Number of rows\n",
    "    n = len(matrix[0])  # Number of columns\n",
    "\n",
    "    # Flags to track if the first row and column should be zeroed\n",
    "    first_row_zero = False\n",
    "    first_col_zero = False\n",
    "\n",
    "    # Step 1: Identify rows and columns to be zeroed\n",
    "    for i in range(m):\n",
    "        for j in range(n):\n",
    "            if matrix[i][j] == 0:\n",
    "                if i == 0:\n",
    "                    first_row_zero = True\n",
    "                if j == 0:\n",
    "                    first_col_zero = True\n",
    "                matrix[0][j] = 0  # Mark column\n",
    "                matrix[i][0] = 0  # Mark row\n",
    "\n",
    "    # Step 2: Set matrix elements to 0 based on markers (excluding first row/col)\n",
    "    for i in range(1, m):\n",
    "        for j in range(1, n):\n",
    "            if matrix[i][0] == 0 or matrix[0][j] == 0:\n",
    "                matrix[i][j] = 0\n",
    "\n",
    "    # Step 3: Zero out the first row if needed\n",
    "    if first_row_zero:\n",
    "        for j in range(n):\n",
    "            matrix[0][j] = 0\n",
    "\n",
    "    # Step 4: Zero out the first column if needed\n",
    "    if first_col_zero:\n",
    "        for i in range(m):\n",
    "            matrix[i][0] = 0\n",
    "\n",
    "# Input matrix\n",
    "matrix = [\n",
    "    [1, 1, 1],\n",
    "    [1, 0, 1],\n",
    "    [1, 1, 1]\n",
    "]\n",
    "\n",
    "set_zeroes(matrix)\n",
    "\n",
    "# Output the result\n",
    "for row in matrix:\n",
    "    print(row)\n"
   ]
  }
 ],
 "metadata": {
  "kernelspec": {
   "display_name": "Python [conda env:base] *",
   "language": "python",
   "name": "conda-base-py"
  },
  "language_info": {
   "codemirror_mode": {
    "name": "ipython",
    "version": 3
   },
   "file_extension": ".py",
   "mimetype": "text/x-python",
   "name": "python",
   "nbconvert_exporter": "python",
   "pygments_lexer": "ipython3",
   "version": "3.12.7"
  }
 },
 "nbformat": 4,
 "nbformat_minor": 5
}
