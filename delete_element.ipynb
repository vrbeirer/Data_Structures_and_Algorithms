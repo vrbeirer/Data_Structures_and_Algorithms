{
 "cells": [
  {
   "cell_type": "code",
   "execution_count": 2,
   "metadata": {},
   "outputs": [
    {
     "name": "stdin",
     "output_type": "stream",
     "text": [
      "Enter number of elements:  2\n",
      " 1\n",
      " 5\n",
      "Enter position to delete (0-indexed):  1\n"
     ]
    },
    {
     "name": "stdout",
     "output_type": "stream",
     "text": [
      "Array after deletion: [1]\n"
     ]
    }
   ],
   "source": [
    "N = int(input(\"Enter number of elements: \"))\n",
    "arr = [int(input()) for _ in range(N)]\n",
    "\n",
    "k = int(input(\"Enter position to delete (0-indexed): \"))\n",
    "\n",
    "if 0 <= k < len(arr):\n",
    "    for i in range(k, len(arr) - 1):\n",
    "        arr[i] = arr[i + 1]  \n",
    "    arr.pop()  \n",
    "    print(\"Array after deletion:\", arr)\n",
    "else:\n",
    "    print(\"Invalid position!\")\n"
   ]
  },
  {
   "cell_type": "code",
   "execution_count": null,
   "metadata": {},
   "outputs": [],
   "source": []
  }
 ],
 "metadata": {
  "kernelspec": {
   "display_name": "Python 3 (ipykernel)",
   "language": "python",
   "name": "python3"
  },
  "language_info": {
   "codemirror_mode": {
    "name": "ipython",
    "version": 3
   },
   "file_extension": ".py",
   "mimetype": "text/x-python",
   "name": "python",
   "nbconvert_exporter": "python",
   "pygments_lexer": "ipython3",
   "version": "3.12.4"
  }
 },
 "nbformat": 4,
 "nbformat_minor": 4
}
