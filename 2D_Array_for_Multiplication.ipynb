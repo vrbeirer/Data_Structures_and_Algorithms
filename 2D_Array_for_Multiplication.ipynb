{
 "cells": [
  {
   "cell_type": "code",
   "execution_count": 2,
   "id": "a6bf672b-826e-4423-b43a-04212a3e002e",
   "metadata": {},
   "outputs": [
    {
     "name": "stdout",
     "output_type": "stream",
     "text": [
      "[[ 300  360  420]\n",
      " [ 660  810  960]\n",
      " [1020 1260 1500]]\n"
     ]
    }
   ],
   "source": [
    "#Using loop\n",
    "import numpy as np\n",
    "arr1=np.array([ \n",
    "    [1,2,3],[4,5,6],[7,8,9]])\n",
    "\n",
    "arr2=np.array([\n",
    "    [10,20,30],[40,50,60],[70,80,90]])\n",
    "result=np.dot(arr1,arr2)\n",
    "print(result)"
   ]
  },
  {
   "cell_type": "code",
   "execution_count": 10,
   "id": "0e1f130b-decd-499d-9775-26ff153cef87",
   "metadata": {},
   "outputs": [
    {
     "name": "stdout",
     "output_type": "stream",
     "text": [
      "[[ 10  40  90]\n",
      " [160 250 360]\n",
      " [490 640 810]]\n"
     ]
    }
   ],
   "source": [
    "#Using loop\n",
    "arr1=np.array([ \n",
    "    [1,2,3],[4,5,6],[7,8,9]])\n",
    "\n",
    "arr2=np.array([\n",
    "    [10,20,30],[40,50,60],[70,80,90]])\n",
    "result=[]\n",
    "for i in range(len(arr1)):\n",
    "    row=[]\n",
    "    for j in range(len(arr1[0])):\n",
    "       result = arr1 * arr2\n",
    "print(result)\n"
   ]
  },
  {
   "cell_type": "code",
   "execution_count": 13,
   "id": "89c02e50-d58d-40c6-99f6-afe93a1c744f",
   "metadata": {},
   "outputs": [
    {
     "name": "stdout",
     "output_type": "stream",
     "text": [
      "[[10, 40, 90], [160, 250, 360], [490, 640, 810]]\n"
     ]
    }
   ],
   "source": [
    "import numpy as np\n",
    "\n",
    "arr1 = np.array([\n",
    "    [1, 2, 3],\n",
    "    [4, 5, 6],\n",
    "    [7, 8, 9]\n",
    "])\n",
    "\n",
    "arr2 = np.array([\n",
    "    [10, 20, 30],\n",
    "    [40, 50, 60],\n",
    "    [70, 80, 90]\n",
    "])\n",
    "\n",
    "result = []\n",
    "for i in range(len(arr1)):\n",
    "    row = []\n",
    "    for j in range(len(arr1[0])):\n",
    "        row.append(arr1[i, j] * arr2[i, j])  # Changed + to * for multiplication\n",
    "    result.append(row)\n",
    "print(result)\n"
   ]
  },
  {
   "cell_type": "code",
   "execution_count": 19,
   "id": "fdf5d45b-378e-4160-a44d-c1af2fddacf5",
   "metadata": {},
   "outputs": [
    {
     "name": "stdout",
     "output_type": "stream",
     "text": [
      "[[10, 40, 90], [160, 250, 360], [490, 640, 810]]\n"
     ]
    }
   ],
   "source": [
    "arr1=np.array([\n",
    "    [1,2,3],[4,5,6], [7, 8, 9]])\n",
    "arr2=np.array([\n",
    "    [10,20,30],[40,50,60],[70, 80, 90]])\n",
    "result=[]\n",
    "for i in range(len(arr1)):\n",
    "    row=[]\n",
    "    for j in range(len(arr1[0])):\n",
    "        row.append(arr1[i,j]*arr2[i,j])\n",
    "    result.append(row)\n",
    "print(result)"
   ]
  },
  {
   "cell_type": "code",
   "execution_count": 18,
   "id": "b9e2be42-ea02-4115-8e4e-a992955a4456",
   "metadata": {},
   "outputs": [
    {
     "name": "stdout",
     "output_type": "stream",
     "text": [
      "[[ 300  360  420]\n",
      " [ 660  810  960]\n",
      " [1020 1260 1500]]\n"
     ]
    }
   ],
   "source": [
    "arr1=np.array([\n",
    "    [1,2,3],[4,5,6], [7, 8, 9]])\n",
    "arr2=np.array([\n",
    "    [10,20,30],[40,50,60],[70, 80, 90]])\n",
    "result=np.dot(arr1,arr2)\n",
    "print(result)"
   ]
  }
 ],
 "metadata": {
  "kernelspec": {
   "display_name": "Python 3 (ipykernel)",
   "language": "python",
   "name": "python3"
  },
  "language_info": {
   "codemirror_mode": {
    "name": "ipython",
    "version": 3
   },
   "file_extension": ".py",
   "mimetype": "text/x-python",
   "name": "python",
   "nbconvert_exporter": "python",
   "pygments_lexer": "ipython3",
   "version": "3.12.7"
  }
 },
 "nbformat": 4,
 "nbformat_minor": 5
}
