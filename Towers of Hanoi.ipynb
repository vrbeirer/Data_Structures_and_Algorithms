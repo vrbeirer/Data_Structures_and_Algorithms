{
 "cells": [
  {
   "cell_type": "code",
   "execution_count": 2,
   "id": "d67ea61c-336b-4489-96e8-8abbe2957137",
   "metadata": {},
   "outputs": [
    {
     "name": "stdout",
     "output_type": "stream",
     "text": [
      "Move disk 1 from A to C\n",
      "Move disk 2 from A to B\n",
      "Move disk 1 from C to B\n",
      "Move disk 3 from A to C\n",
      "Move disk 1 from B to A\n",
      "Move disk 2 from B to C\n",
      "Move disk 1 from A to C\n",
      "Move disk 4 from A to B\n",
      "Move disk 1 from C to B\n",
      "Move disk 2 from C to A\n",
      "Move disk 1 from B to A\n",
      "Move disk 3 from C to B\n",
      "Move disk 1 from A to C\n",
      "Move disk 2 from A to B\n",
      "Move disk 1 from C to B\n",
      "Move disk 5 from A to C\n",
      "Move disk 1 from B to A\n",
      "Move disk 2 from B to C\n",
      "Move disk 1 from A to C\n",
      "Move disk 3 from B to A\n",
      "Move disk 1 from C to B\n",
      "Move disk 2 from C to A\n",
      "Move disk 1 from B to A\n",
      "Move disk 4 from B to C\n",
      "Move disk 1 from A to C\n",
      "Move disk 2 from A to B\n",
      "Move disk 1 from C to B\n",
      "Move disk 3 from A to C\n",
      "Move disk 1 from B to A\n",
      "Move disk 2 from B to C\n",
      "Move disk 1 from A to C\n",
      "\n",
      "Total moves for 5 disks: 31\n"
     ]
    }
   ],
   "source": [
    "def tower_of_hanoi(n, source, auxiliary, target, moves=0):\n",
    " \n",
    "    if n == 1:\n",
    "        print(f\"Move disk 1 from {source} to {target}\")\n",
    "        return moves + 1  # Increment move count\n",
    "\n",
    "    moves = tower_of_hanoi(n - 1, source, target, auxiliary, moves)  # Recursive call\n",
    "    print(f\"Move disk {n} from {source} to {target}\")\n",
    "    moves += 1  # Increment move count for this move\n",
    "    moves = tower_of_hanoi(n - 1, auxiliary, source, target, moves)  # Recursive call\n",
    "    return moves\n",
    "\n",
    "\n",
    "# Example usage:\n",
    "num_disks = 5\n",
    "source_peg = 'A'\n",
    "auxiliary_peg = 'B'\n",
    "target_peg = 'C'\n",
    "\n",
    "total_moves = tower_of_hanoi(num_disks, source_peg, auxiliary_peg, target_peg)\n",
    "\n",
    "print(f\"\\nTotal moves for {num_disks} disks: {total_moves}\")"
   ]
  },
  {
   "cell_type": "code",
   "execution_count": 8,
   "id": "4843221b-4e24-4588-b6f7-950060d9aa35",
   "metadata": {},
   "outputs": [
    {
     "name": "stdout",
     "output_type": "stream",
     "text": [
      "Moves: 31, Time: 0.000090s\n",
      "\n",
      "Complexity Demo:\n",
      "Disks:1, Moves:1, Time:0.000001s\n",
      "Disks:2, Moves:3, Time:0.000003s\n",
      "Disks:3, Moves:7, Time:0.000007s\n",
      "Disks:4, Moves:15, Time:0.000023s\n",
      "Disks:5, Moves:31, Time:0.000061s\n"
     ]
    }
   ],
   "source": [
    "#Recursive and Time complexity\n",
    "import time\n",
    "\n",
    "def tower_of_hanoi(n, source, aux, target, moves=0):\n",
    "    start = time.perf_counter()\n",
    "    if n == 1:\n",
    "        return moves + 1, time.perf_counter() - start\n",
    "    m, t1 = tower_of_hanoi(n - 1, source, target, aux, moves)\n",
    "    m += 1\n",
    "    m, t2 = tower_of_hanoi(n - 1, aux, source, target, m)\n",
    "    return m, time.perf_counter() - start + t1 + t2\n",
    "\n",
    "n = 5\n",
    "s, a, t = 'A', 'B', 'C'\n",
    "m, ti = tower_of_hanoi(n, s, a, t)\n",
    "print(f\"Moves: {m}, Time: {ti:.6f}s\")\n",
    "\n",
    "print(\"\\nComplexity Demo:\")\n",
    "for i in range(1, 6):\n",
    "    m, ti = tower_of_hanoi(i, s, a, t)\n",
    "    print(f\"Disks:{i}, Moves:{m}, Time:{ti:.6f}s\")"
   ]
  },
  {
   "cell_type": "code",
   "execution_count": null,
   "id": "c3f52441-2cc3-4282-89f6-4880208f3435",
   "metadata": {},
   "outputs": [],
   "source": []
  }
 ],
 "metadata": {
  "kernelspec": {
   "display_name": "Python 3 (ipykernel)",
   "language": "python",
   "name": "python3"
  },
  "language_info": {
   "codemirror_mode": {
    "name": "ipython",
    "version": 3
   },
   "file_extension": ".py",
   "mimetype": "text/x-python",
   "name": "python",
   "nbconvert_exporter": "python",
   "pygments_lexer": "ipython3",
   "version": "3.12.7"
  }
 },
 "nbformat": 4,
 "nbformat_minor": 5
}
