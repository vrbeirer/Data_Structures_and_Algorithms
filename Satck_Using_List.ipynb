{
 "cells": [
  {
   "cell_type": "code",
   "execution_count": null,
   "id": "ca18b86f-6cb2-4371-bdbd-c2ee074fbc50",
   "metadata": {},
   "outputs": [
    {
     "name": "stdout",
     "output_type": "stream",
     "text": [
      "\n",
      "Program to implement stack using list\n",
      "1. Push\n",
      "2. Pop\n",
      "3. Peek\n",
      "4. Display\n",
      "5. Exit\n"
     ]
    },
    {
     "name": "stdin",
     "output_type": "stream",
     "text": [
      "Enter your choice:  4\n"
     ]
    },
    {
     "name": "stdout",
     "output_type": "stream",
     "text": [
      "Stack is Empty\n",
      "\n",
      "Program to implement stack using list\n",
      "1. Push\n",
      "2. Pop\n",
      "3. Peek\n",
      "4. Display\n",
      "5. Exit\n"
     ]
    }
   ],
   "source": [
    "class Stack:\n",
    "    def __init__(self):\n",
    "        self.items = []  # Creating an empty list\n",
    "\n",
    "    def isempty(self):\n",
    "        return len(self.items) == 0  # A more Pythonic way to check if the list is empty\n",
    "\n",
    "    def push(self, item):\n",
    "        self.items.append(item)  # Append the item to the stack\n",
    "\n",
    "    def pop(self):\n",
    "        if self.isempty():\n",
    "            print(\"Stack is underflow\")  # Stack underflow error\n",
    "            return None\n",
    "        return self.items.pop()  # Remove and return the last item\n",
    "\n",
    "    def peek(self):\n",
    "        if self.isempty():\n",
    "            print(\"Stack is empty\")  # Stack is empty error\n",
    "            return None\n",
    "        return self.items[-1]  # Return the last item\n",
    "\n",
    "    def size(self):\n",
    "        return len(self.items)  # Return the size of the stack\n",
    "\n",
    "    def display(self):\n",
    "        if self.isempty():\n",
    "            print(\"Stack is Empty\")  # Stack is empty message\n",
    "            return\n",
    "        print(\"Stack elements (from top to bottom):\")\n",
    "        for item in reversed(self.items):  # Display the stack from top to bottom\n",
    "            print(item)\n",
    "\n",
    "# Main program to interact with the stack\n",
    "s = Stack()\n",
    "\n",
    "while True:\n",
    "    print(\"\\nProgram to implement stack using list\")\n",
    "    print(\"1. Push\")\n",
    "    print(\"2. Pop\")\n",
    "    print(\"3. Peek\")\n",
    "    print(\"4. Display\")\n",
    "    print(\"5. Exit\")\n",
    "    \n",
    "    try:\n",
    "        choice = int(input(\"Enter your choice: \"))\n",
    "    except ValueError:\n",
    "        print(\"Invalid input! Please enter a number.\")\n",
    "        continue\n",
    "    \n",
    "    if choice == 1:\n",
    "        num = int(input(\"Enter the data to push: \"))\n",
    "        s.push(num)\n",
    "    elif choice == 2:\n",
    "        num = s.pop()\n",
    "        if num is not None:\n",
    "            print(\"Popped item:\", num)\n",
    "    elif choice == 3:\n",
    "        num = s.peek()\n",
    "        if num is not None:\n",
    "            print(\"Item at the top of the stack:\", num)\n",
    "    elif choice == 4:\n",
    "        s.display()\n",
    "    elif choice == 5:\n",
    "        print(\"\\nQuitting the program.\")\n",
    "        break\n",
    "    else:\n",
    "        print(\"Invalid choice! Please enter a valid option.\")\n"
   ]
  }
 ],
 "metadata": {
  "kernelspec": {
   "display_name": "Python 3 (ipykernel)",
   "language": "python",
   "name": "python3"
  },
  "language_info": {
   "codemirror_mode": {
    "name": "ipython",
    "version": 3
   },
   "file_extension": ".py",
   "mimetype": "text/x-python",
   "name": "python",
   "nbconvert_exporter": "python",
   "pygments_lexer": "ipython3",
   "version": "3.12.7"
  }
 },
 "nbformat": 4,
 "nbformat_minor": 5
}
