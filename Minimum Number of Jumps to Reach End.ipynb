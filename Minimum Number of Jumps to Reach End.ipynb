{
 "cells": [
  {
   "cell_type": "code",
   "execution_count": 1,
   "id": "95631308-b29f-4fde-b413-5053f2c0d1a6",
   "metadata": {},
   "outputs": [
    {
     "name": "stdout",
     "output_type": "stream",
     "text": [
      "2\n"
     ]
    }
   ],
   "source": [
    "def min_jumps(arr):\n",
    "    if len(arr) <= 1:\n",
    "        return 0\n",
    "    if arr[0] == 0:\n",
    "        return float('inf')\n",
    "    \n",
    "    max_reach = arr[0]\n",
    "    step = arr[0]\n",
    "    jumps = 1\n",
    "    \n",
    "    for i in range(1, len(arr)):\n",
    "        if i == len(arr) - 1:\n",
    "            return jumps\n",
    "        max_reach = max(max_reach, i + arr[i])\n",
    "        step -= 1\n",
    "        if step == 0:\n",
    "            jumps += 1\n",
    "            if i >= max_reach:\n",
    "                return float('inf')\n",
    "            step = max_reach - i\n",
    "    return float('inf')\n",
    "arr = [6, 2, 4, 0, 5, 1, 1, 4, 2, 9]\n",
    "print(min_jumps(arr)) \n"
   ]
  },
  {
   "cell_type": "code",
   "execution_count": null,
   "id": "06f96749-ef7c-4f62-a83a-008d421b9fba",
   "metadata": {},
   "outputs": [],
   "source": []
  }
 ],
 "metadata": {
  "kernelspec": {
   "display_name": "Python 3 (ipykernel)",
   "language": "python",
   "name": "python3"
  },
  "language_info": {
   "codemirror_mode": {
    "name": "ipython",
    "version": 3
   },
   "file_extension": ".py",
   "mimetype": "text/x-python",
   "name": "python",
   "nbconvert_exporter": "python",
   "pygments_lexer": "ipython3",
   "version": "3.12.4"
  }
 },
 "nbformat": 4,
 "nbformat_minor": 5
}
