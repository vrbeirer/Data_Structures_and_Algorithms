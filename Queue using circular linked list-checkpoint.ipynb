{
 "cells": [
  {
   "cell_type": "code",
   "execution_count": 5,
   "id": "bc5c9a7f-84f5-489a-af19-a52a205eb44f",
   "metadata": {},
   "outputs": [
    {
     "name": "stdout",
     "output_type": "stream",
     "text": [
      "\n",
      "Program to implement Circular queue:\n",
      "1. Enqueue\n",
      "2. Dequeue\n",
      "3. Peek\n",
      "4. Display\n",
      "5. Exit\n"
     ]
    },
    {
     "name": "stdin",
     "output_type": "stream",
     "text": [
      "Enter Your Choice:  1\n",
      "Enter the data:  10\n"
     ]
    },
    {
     "name": "stdout",
     "output_type": "stream",
     "text": [
      "\n",
      "Program to implement Circular queue:\n",
      "1. Enqueue\n",
      "2. Dequeue\n",
      "3. Peek\n",
      "4. Display\n",
      "5. Exit\n"
     ]
    },
    {
     "name": "stdin",
     "output_type": "stream",
     "text": [
      "Enter Your Choice:  1\n",
      "Enter the data:  4\n"
     ]
    },
    {
     "name": "stdout",
     "output_type": "stream",
     "text": [
      "\n",
      "Program to implement Circular queue:\n",
      "1. Enqueue\n",
      "2. Dequeue\n",
      "3. Peek\n",
      "4. Display\n",
      "5. Exit\n"
     ]
    },
    {
     "name": "stdin",
     "output_type": "stream",
     "text": [
      "Enter Your Choice:  1\n",
      "Enter the data:  5\n"
     ]
    },
    {
     "name": "stdout",
     "output_type": "stream",
     "text": [
      "\n",
      "Program to implement Circular queue:\n",
      "1. Enqueue\n",
      "2. Dequeue\n",
      "3. Peek\n",
      "4. Display\n",
      "5. Exit\n"
     ]
    },
    {
     "name": "stdin",
     "output_type": "stream",
     "text": [
      "Enter Your Choice:  1\n",
      "Enter the data:  2\n"
     ]
    },
    {
     "name": "stdout",
     "output_type": "stream",
     "text": [
      "\n",
      "Program to implement Circular queue:\n",
      "1. Enqueue\n",
      "2. Dequeue\n",
      "3. Peek\n",
      "4. Display\n",
      "5. Exit\n"
     ]
    },
    {
     "name": "stdin",
     "output_type": "stream",
     "text": [
      "Enter Your Choice:  4\n"
     ]
    },
    {
     "name": "stdout",
     "output_type": "stream",
     "text": [
      "10 -> 4 -> 5 -> 2 -> \n",
      "\n",
      "Program to implement Circular queue:\n",
      "1. Enqueue\n",
      "2. Dequeue\n",
      "3. Peek\n",
      "4. Display\n",
      "5. Exit\n"
     ]
    },
    {
     "name": "stdin",
     "output_type": "stream",
     "text": [
      "Enter Your Choice:  5\n"
     ]
    },
    {
     "name": "stdout",
     "output_type": "stream",
     "text": [
      "Quitting...\n"
     ]
    }
   ],
   "source": [
    "class Node:\n",
    "    def __init__(self, NewData, link=None): \n",
    "        self.data = NewData\n",
    "        self.next = link\n",
    "\n",
    "class Circular_Queue:\n",
    "    def __init__(self):  \n",
    "        self.tail = None\n",
    "\n",
    "    def isempty(self):\n",
    "        return self.tail is None\n",
    "\n",
    "    def enqueue(self, NewData):\n",
    "        newNode = Node(NewData)\n",
    "        if self.tail is None:\n",
    "            newNode.next = newNode\n",
    "        else:\n",
    "            newNode.next = self.tail.next\n",
    "            self.tail.next = newNode\n",
    "        self.tail = newNode\n",
    "\n",
    "    def peek(self):\n",
    "        if self.isempty():\n",
    "            print(\"Queue is empty\")\n",
    "            return None\n",
    "        return self.tail.next.data\n",
    "\n",
    "    def dequeue(self):\n",
    "        if self.isempty():\n",
    "            print(\"Queue Underflow\")\n",
    "            return None\n",
    "        frontNode = self.tail.next\n",
    "        if frontNode == self.tail:  \n",
    "            self.tail = None\n",
    "        else:\n",
    "            self.tail.next = frontNode.next\n",
    "        return frontNode.data\n",
    "\n",
    "    def display(self):\n",
    "        if self.isempty():\n",
    "            print(\"Queue is Empty\")\n",
    "            return\n",
    "        curNode = self.tail.next\n",
    "        while True:\n",
    "            print(curNode.data, end=\" -> \")\n",
    "            curNode = curNode.next\n",
    "            if curNode == self.tail.next: \n",
    "                break\n",
    "        print()\n",
    "\n",
    "\n",
    "\n",
    "q = Circular_Queue()\n",
    "while True:\n",
    "    print(\"\\nProgram to implement Circular queue:\")\n",
    "    print(\"1. Enqueue\")\n",
    "    print(\"2. Dequeue\")\n",
    "    print(\"3. Peek\")\n",
    "    print(\"4. Display\")\n",
    "    print(\"5. Exit\")\n",
    "    \n",
    "    choice = int(input(\"Enter Your Choice: \"))\n",
    "    \n",
    "    if choice == 1:\n",
    "        num = int(input(\"Enter the data: \"))\n",
    "        q.enqueue(num)\n",
    "    elif choice == 2:\n",
    "        num = q.dequeue()\n",
    "        if num is not None:\n",
    "            print(\"Item dequeued:\", num)\n",
    "    elif choice == 3:\n",
    "        num = q.peek()\n",
    "        if num is not None:\n",
    "            print(\"Front item:\", num)\n",
    "    elif choice == 4:\n",
    "        q.display()\n",
    "    elif choice == 5:\n",
    "        print(\"Quitting...\")\n",
    "        break\n",
    "    else:\n",
    "        print(\"Invalid choice, please enter the correct choice.\")\n"
   ]
  },
  {
   "cell_type": "code",
   "execution_count": null,
   "id": "86bad508-d04f-41c4-9668-e07320d53d08",
   "metadata": {},
   "outputs": [],
   "source": []
  }
 ],
 "metadata": {
  "kernelspec": {
   "display_name": "Python 3 (ipykernel)",
   "language": "python",
   "name": "python3"
  },
  "language_info": {
   "codemirror_mode": {
    "name": "ipython",
    "version": 3
   },
   "file_extension": ".py",
   "mimetype": "text/x-python",
   "name": "python",
   "nbconvert_exporter": "python",
   "pygments_lexer": "ipython3",
   "version": "3.12.7"
  }
 },
 "nbformat": 4,
 "nbformat_minor": 5
}
