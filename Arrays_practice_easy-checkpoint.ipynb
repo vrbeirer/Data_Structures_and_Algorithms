{
 "cells": [
  {
   "cell_type": "code",
   "execution_count": 2,
   "id": "53f6b7e4-bf2f-4527-90e6-087a5b4e09dd",
   "metadata": {},
   "outputs": [
    {
     "name": "stdout",
     "output_type": "stream",
     "text": [
      "1. Smallest: 1\n"
     ]
    }
   ],
   "source": [
    "import math\n",
    "\n",
    "# 1. Smallest element\n",
    "def smallest_element(numbers):\n",
    "    if not numbers:\n",
    "        return None\n",
    "    return min(numbers)\n",
    "\n",
    "# Example:\n",
    "numbers1 = [5, 2, 8, 1, 9, 2]\n",
    "print(\"1. Smallest:\", smallest_element(numbers1))\n"
   ]
  },
  {
   "cell_type": "code",
   "execution_count": 3,
   "id": "8b4465f8-42ea-4dda-9404-9454493d7772",
   "metadata": {},
   "outputs": [
    {
     "name": "stdout",
     "output_type": "stream",
     "text": [
      "2. Reversed: [5, 4, 3, 2, 1]\n"
     ]
    }
   ],
   "source": [
    "# 2. Reverse array\n",
    "def reverse_array(arr):\n",
    "    left, right = 0, len(arr) - 1\n",
    "    while left < right:\n",
    "        arr[left], arr[right] = arr[right], arr[left]\n",
    "        left += 1\n",
    "        right -= 1\n",
    "\n",
    "# Example:\n",
    "arr2 = [1, 2, 3, 4, 5]\n",
    "reverse_array(arr2)\n",
    "print(\"2. Reversed:\", arr2)\n"
   ]
  },
  {
   "cell_type": "code",
   "execution_count": 4,
   "id": "c25b2c90-ad28-4606-9077-7b5e944724c7",
   "metadata": {},
   "outputs": [
    {
     "name": "stdout",
     "output_type": "stream",
     "text": [
      "3. Std Dev: 3.095695936834452\n"
     ]
    }
   ],
   "source": [
    "\n",
    "# 3. Standard deviation\n",
    "def standard_deviation(numbers):\n",
    "    if not numbers:\n",
    "        return None\n",
    "    n = len(numbers)\n",
    "    mean = sum(numbers) / n\n",
    "    variance = sum([(x - mean)**2 for x in numbers]) / n\n",
    "    return math.sqrt(variance)\n",
    "\n",
    "# Example:\n",
    "numbers3 = [5, 2, 8, 1, 9, 2]\n",
    "print(\"3. Std Dev:\", standard_deviation(numbers3))\n"
   ]
  },
  {
   "cell_type": "code",
   "execution_count": 5,
   "id": "dd00504c-d406-4b0c-8eb0-2f16618d1399",
   "metadata": {},
   "outputs": [
    {
     "name": "stdout",
     "output_type": "stream",
     "text": [
      "4. Odd Count: 3\n"
     ]
    }
   ],
   "source": [
    "\n",
    "# 4. Count odd numbers\n",
    "def count_odd_numbers(numbers):\n",
    "    return sum(1 for num in numbers if num % 2 != 0)\n",
    "\n",
    "# Example:\n",
    "numbers4 = [1, 2, 3, 4, 5, 6]\n",
    "print(\"4. Odd Count:\", count_odd_numbers(numbers4))\n"
   ]
  },
  {
   "cell_type": "code",
   "execution_count": 7,
   "id": "3b01e2b1-78d6-43c8-87d2-731cc8b0d5c2",
   "metadata": {},
   "outputs": [
    {
     "name": "stdout",
     "output_type": "stream",
     "text": [
      "5. Largest Odd: 5\n"
     ]
    }
   ],
   "source": [
    "# 5. Largest odd number\n",
    "def largest_odd_number(numbers):\n",
    "    odds = [num for num in numbers if num % 2 != 0]\n",
    "    if not odds:\n",
    "        return None\n",
    "    return max(odds)\n",
    "\n",
    "# Example:\n",
    "numbers5 = [2, 4, 6, 1, 3, 5]\n",
    "print(\"5. Largest Odd:\", largest_odd_number(numbers5))\n"
   ]
  },
  {
   "cell_type": "code",
   "execution_count": 8,
   "id": "aa6f0c9d-7d82-4814-81b2-1cb2beb74c90",
   "metadata": {},
   "outputs": [
    {
     "name": "stdout",
     "output_type": "stream",
     "text": [
      "6. Prime Count: 4\n"
     ]
    }
   ],
   "source": [
    "\n",
    "# 6. Count prime numbers\n",
    "def is_prime(num):\n",
    "    if num <= 1:\n",
    "        return False\n",
    "    for i in range(2, int(math.sqrt(num)) + 1):\n",
    "        if num % i == 0:\n",
    "            return False\n",
    "    return True\n",
    "\n",
    "def count_prime_numbers(numbers):\n",
    "    return sum(1 for num in numbers if is_prime(num))\n",
    "\n",
    "# Example:\n",
    "numbers6 = [2, 3, 4, 5, 6, 7]\n",
    "print(\"6. Prime Count:\", count_prime_numbers(numbers6))\n"
   ]
  },
  {
   "cell_type": "code",
   "execution_count": 9,
   "id": "ae7c21a4-6b52-48de-95f7-815eb3b50d8a",
   "metadata": {},
   "outputs": [
    {
     "name": "stdout",
     "output_type": "stream",
     "text": [
      "9. Binary of 10 : 1010\n"
     ]
    }
   ],
   "source": [
    "# 9. Decimal to binary\n",
    "def decimal_to_binary(n):\n",
    "    if n == 0:\n",
    "        return \"0\"\n",
    "    binary = \"\"\n",
    "    while n > 0:\n",
    "        binary = str(n % 2) + binary\n",
    "        n //= 2\n",
    "    return binary\n",
    "\n",
    "# Example:\n",
    "decimal_num = 10\n",
    "print(\"9. Binary of\", decimal_num, \":\", decimal_to_binary(decimal_num))"
   ]
  },
  {
   "cell_type": "code",
   "execution_count": 10,
   "id": "32cacbaa-cf7c-4c95-ae72-f911eb528a80",
   "metadata": {},
   "outputs": [
    {
     "name": "stdout",
     "output_type": "stream",
     "text": [
      "10. After deletion: [1, 2, 4, 5]\n"
     ]
    }
   ],
   "source": [
    "# 10. Delete element\n",
    "def delete_element(arr, k):\n",
    "    if 0 <= k < len(arr):\n",
    "        del arr[k]\n",
    "    else:\n",
    "        print(\"Invalid index\")\n",
    "\n",
    "# Example:\n",
    "arr10 = [1, 2, 3, 4, 5]\n",
    "delete_element(arr10, 2)\n",
    "print(\"10. After deletion:\", arr10)"
   ]
  },
  {
   "cell_type": "code",
   "execution_count": 11,
   "id": "fdb4a77a-5063-4e4c-8b96-8eff3c3f387c",
   "metadata": {},
   "outputs": [
    {
     "name": "stdout",
     "output_type": "stream",
     "text": [
      "11. After insertion: [1, 3, 4, 5, 7, 9]\n"
     ]
    }
   ],
   "source": [
    "\n",
    "# 11. Insert sorted\n",
    "def insert_sorted(arr, num):\n",
    "    for i in range(len(arr)):\n",
    "        if num <= arr[i]:\n",
    "            arr.insert(i, num)\n",
    "            return\n",
    "    arr.append(num)\n",
    "\n",
    "# Example:\n",
    "sorted_arr11 = [1, 3, 5, 7, 9]\n",
    "insert_sorted(sorted_arr11, 4)\n",
    "print(\"11. After insertion:\", sorted_arr11)\n"
   ]
  },
  {
   "cell_type": "code",
   "execution_count": 12,
   "id": "359a4c62-3fa5-4ad4-88ff-92926c1edab0",
   "metadata": {},
   "outputs": [
    {
     "name": "stdout",
     "output_type": "stream",
     "text": [
      "12. Union: [1, 2, 3, 4, 5]\n"
     ]
    }
   ],
   "source": [
    "# 12. Union of sets\n",
    "def union_of_sets(set1, set2):\n",
    "    return list(set(set1).union(set(set2)))\n",
    "\n",
    "# Example:\n",
    "set12_1 = [1, 2, 3]\n",
    "set12_2 = [3, 4, 5]\n",
    "print(\"12. Union:\", union_of_sets(set12_1, set12_2))"
   ]
  },
  {
   "cell_type": "code",
   "execution_count": null,
   "id": "56568924-086b-4f54-a337-2e8f1d179030",
   "metadata": {},
   "outputs": [],
   "source": []
  }
 ],
 "metadata": {
  "kernelspec": {
   "display_name": "Python 3 (ipykernel)",
   "language": "python",
   "name": "python3"
  },
  "language_info": {
   "codemirror_mode": {
    "name": "ipython",
    "version": 3
   },
   "file_extension": ".py",
   "mimetype": "text/x-python",
   "name": "python",
   "nbconvert_exporter": "python",
   "pygments_lexer": "ipython3",
   "version": "3.12.7"
  }
 },
 "nbformat": 4,
 "nbformat_minor": 5
}
