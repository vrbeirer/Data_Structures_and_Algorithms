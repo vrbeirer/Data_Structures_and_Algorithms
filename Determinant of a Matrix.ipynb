{
 "cells": [
  {
   "cell_type": "code",
   "execution_count": 1,
   "id": "5c9c1553-9b3d-4b09-a2f2-ee7ef821cab3",
   "metadata": {},
   "outputs": [
    {
     "name": "stdout",
     "output_type": "stream",
     "text": [
      "Determinant of the matrix: 9\n"
     ]
    }
   ],
   "source": [
    "def determinant(matrix, n):\n",
    "    if n == 1: return matrix[0][0]\n",
    "    if n == 2: return matrix[0][0] * matrix[1][1] - matrix[0][1] * matrix[1][0]\n",
    "\n",
    "    det = 0\n",
    "    for i in range(n):\n",
    "        sub_matrix = [row[:i] + row[i+1:] for row in matrix[1:]]\n",
    "        det += ((-1) ** i) * matrix[0][i] * determinant(sub_matrix, n - 1)\n",
    "    return det\n",
    "\n",
    "# Example 3x3 matrix\n",
    "matrix = [\n",
    "    [2, 3, 1],\n",
    "    [4, 5, 6],\n",
    "    [7, 8, 9]\n",
    "]\n",
    "\n",
    "print(\"Determinant of the matrix:\", determinant(matrix, len(matrix)))\n"
   ]
  },
  {
   "cell_type": "code",
   "execution_count": null,
   "id": "2cafaeb5-276d-4f38-a3e8-a90e8bfacc82",
   "metadata": {},
   "outputs": [],
   "source": []
  }
 ],
 "metadata": {
  "kernelspec": {
   "display_name": "Python 3 (ipykernel)",
   "language": "python",
   "name": "python3"
  },
  "language_info": {
   "codemirror_mode": {
    "name": "ipython",
    "version": 3
   },
   "file_extension": ".py",
   "mimetype": "text/x-python",
   "name": "python",
   "nbconvert_exporter": "python",
   "pygments_lexer": "ipython3",
   "version": "3.12.7"
  }
 },
 "nbformat": 4,
 "nbformat_minor": 5
}
