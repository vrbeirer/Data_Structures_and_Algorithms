{
 "cells": [
  {
   "cell_type": "code",
   "execution_count": 1,
   "id": "89358ba2-7d3c-4c76-98d4-608f73bf679c",
   "metadata": {},
   "outputs": [
    {
     "name": "stdout",
     "output_type": "stream",
     "text": [
      "55\n",
      "55\n"
     ]
    }
   ],
   "source": [
    "# Iterative Fibonacci\n",
    "def fib_iter(n):\n",
    "    a, b = 0, 1\n",
    "    for _ in range(n):\n",
    "        a, b = b, a + b\n",
    "    return a\n",
    "\n",
    "# Recursive Fibonacci\n",
    "def fib_recur(n):\n",
    "    if n <= 1:\n",
    "        return n\n",
    "    return fib_recur(n-1) + fib_recur(n-2)\n",
    "\n",
    "# Example usage:\n",
    "print(fib_iter(10))  # Output: 55\n",
    "print(fib_recur(10)) # Output: 55"
   ]
  },
  {
   "cell_type": "code",
   "execution_count": 8,
   "id": "aabaac97-a0dc-41c1-832c-5069f786d316",
   "metadata": {},
   "outputs": [
    {
     "name": "stdout",
     "output_type": "stream",
     "text": [
      "55\n",
      "55\n"
     ]
    }
   ],
   "source": [
    "def fib_iter(n):\n",
    "    a,b=0,1\n",
    "    for _ in range(n):\n",
    "        a,b=b,a+b\n",
    "    return a \n",
    "def fib_rec(n):\n",
    "    if n<=1:\n",
    "        return n \n",
    "    return fib_rec(n-1)+fib_rec(n-2)\n",
    "print(fib_iter(10))\n",
    "print(fib_rec(10))"
   ]
  },
  {
   "cell_type": "code",
   "execution_count": null,
   "id": "9ce9a97a-1cef-4812-aa4a-c7d08d803b70",
   "metadata": {},
   "outputs": [],
   "source": []
  }
 ],
 "metadata": {
  "kernelspec": {
   "display_name": "Python 3 (ipykernel)",
   "language": "python",
   "name": "python3"
  },
  "language_info": {
   "codemirror_mode": {
    "name": "ipython",
    "version": 3
   },
   "file_extension": ".py",
   "mimetype": "text/x-python",
   "name": "python",
   "nbconvert_exporter": "python",
   "pygments_lexer": "ipython3",
   "version": "3.12.7"
  }
 },
 "nbformat": 4,
 "nbformat_minor": 5
}
