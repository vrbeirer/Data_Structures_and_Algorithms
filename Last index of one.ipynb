{
 "cells": [
  {
   "cell_type": "code",
   "execution_count": 1,
   "id": "46d7655d-27ec-4699-99df-1c7c2ff3ad63",
   "metadata": {},
   "outputs": [
    {
     "name": "stdout",
     "output_type": "stream",
     "text": [
      "Last Index of one: 4\n"
     ]
    }
   ],
   "source": [
    "import numpy as np\n",
    "x=np.array([0,1,0,1,1,10])\n",
    "def last_occurence_1(x):\n",
    "    n=len(x)\n",
    "    index=-1\n",
    "    for i in range(n):\n",
    "        if x[i]==1:\n",
    "            index=i\n",
    "    return index\n",
    "print(\"Last Index of one:\",last_occurence_1(x))"
   ]
  },
  {
   "cell_type": "code",
   "execution_count": 3,
   "id": "6204f2fc-3e71-41e8-b0e4-43e846cf8e5a",
   "metadata": {},
   "outputs": [
    {
     "name": "stdout",
     "output_type": "stream",
     "text": [
      "[1, 0, 0]\n"
     ]
    }
   ],
   "source": [
    "x = [0, 1, 0, 3, 12]\n",
    "list1 = []\n",
    "count = 0\n",
    "\n",
    "for i in range(len(x)):\n",
    "    if x[i] == 1:\n",
    "        list1.append(x[i])\n",
    "    elif x[i] == 0:\n",
    "        count += 1\n",
    "\n",
    "res = list1 + [0] * count  \n",
    "print(res)"
   ]
  },
  {
   "cell_type": "code",
   "execution_count": null,
   "id": "b161a409-476e-47a4-aca5-921d72a5fcd9",
   "metadata": {},
   "outputs": [],
   "source": []
  }
 ],
 "metadata": {
  "kernelspec": {
   "display_name": "Python 3 (ipykernel)",
   "language": "python",
   "name": "python3"
  },
  "language_info": {
   "codemirror_mode": {
    "name": "ipython",
    "version": 3
   },
   "file_extension": ".py",
   "mimetype": "text/x-python",
   "name": "python",
   "nbconvert_exporter": "python",
   "pygments_lexer": "ipython3",
   "version": "3.12.7"
  }
 },
 "nbformat": 4,
 "nbformat_minor": 5
}
